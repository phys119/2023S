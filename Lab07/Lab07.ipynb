{
 "cells": [
  {
   "cell_type": "markdown",
   "id": "d8d5d4d2-d72a-4e39-8261-d2270bea16ef",
   "metadata": {},
   "source": [
    "# Lab 07 - RC Circuit I"
   ]
  },
  {
   "cell_type": "markdown",
   "id": "616336d2-b711-4daa-b591-51875f8e64a4",
   "metadata": {},
   "source": [
    "Edit this cell and provide the information requested:\n",
    "\n",
    "- Your name:\n",
    "- Your student number:\n",
    "- Partner's name:"
   ]
  },
  {
   "cell_type": "code",
   "execution_count": 1,
   "id": "c7e56ef9-175b-4e74-8d0c-46daf5159cfa",
   "metadata": {},
   "outputs": [],
   "source": [
    "import numpy as np\n",
    "import data_entry2\n",
    "import matplotlib.pyplot as plt"
   ]
  },
  {
   "cell_type": "markdown",
   "id": "e6311cdc-8028-44c2-8b85-4c4986e4f7c9",
   "metadata": {},
   "source": [
    "## Part A - FAMILIARIZE, Part 1 - Overview of your resistor-capacitor (RC) circuit and the oscilloscope tutorial"
   ]
  },
  {
   "cell_type": "markdown",
   "id": "32f56d9d-7871-4d7c-b30a-deee258006c9",
   "metadata": {},
   "source": [
    "***Write down any important notes about the oscilloscope and circuit here.***"
   ]
  },
  {
   "cell_type": "markdown",
   "id": "57bada0b-1a00-4b40-abd8-b4a6122aa052",
   "metadata": {},
   "source": []
  },
  {
   "cell_type": "markdown",
   "id": "411a6b6d-425a-4e2a-a0d7-cbc5eabe7cdc",
   "metadata": {},
   "source": [
    "## Part B - FAMILIARIZE, Part 2 - Make an initial set of measurements"
   ]
  },
  {
   "cell_type": "markdown",
   "id": "438f08ce-9ba8-45fa-9778-acc924b5189e",
   "metadata": {},
   "source": [
    "***Before making any measurements, record the number on your capacitor in your lab notes. You will use this same setup next week and will be able to continue using your data from this week as long as you are certain you are using the same capacitor.***"
   ]
  },
  {
   "cell_type": "markdown",
   "id": "d4cefc5c-7959-43c4-ae2f-bfc19939864d",
   "metadata": {},
   "source": []
  },
  {
   "cell_type": "markdown",
   "id": "6d617255-4bfb-4ba6-b3c5-4e2c0ca4a629",
   "metadata": {},
   "source": [
    "## Part C - FAMILIARIZE, Part 3 - Develop your measurement strategy for further measurements"
   ]
  },
  {
   "cell_type": "markdown",
   "id": "1f249335-848f-483a-8a6b-4202be0482c4",
   "metadata": {},
   "source": [
    "***Include some notes on the questions from Part C of the student instructions.***"
   ]
  },
  {
   "cell_type": "markdown",
   "id": "45a797b2-8599-4bc4-9224-59b71bca92ac",
   "metadata": {},
   "source": []
  },
  {
   "cell_type": "code",
   "execution_count": null,
   "id": "b0d8ae5f-c5a7-4602-8611-b38493d0bcd5",
   "metadata": {},
   "outputs": [],
   "source": []
  },
  {
   "cell_type": "markdown",
   "id": "e3433d8b-a751-419b-af4d-213e7902cf05",
   "metadata": {},
   "source": [
    "## Part D - MEASURE & ANALYZE - Collect additional data and create a scatter plot"
   ]
  },
  {
   "cell_type": "markdown",
   "id": "2635aecf-0fdf-43c1-9061-71e1ce02ec8f",
   "metadata": {},
   "source": []
  },
  {
   "cell_type": "code",
   "execution_count": null,
   "id": "11041811-5ad0-45fa-8dfe-60f6047f2bfd",
   "metadata": {
    "tags": []
   },
   "outputs": [],
   "source": []
  },
  {
   "cell_type": "markdown",
   "id": "cc74382f",
   "metadata": {},
   "source": [
    "Once you have created your scatter plot, fit your data to the linear model using the chi-squared minimization technique from last week. From this fit, come up with the capacitance and uncertainty of capacitance."
   ]
  },
  {
   "cell_type": "code",
   "execution_count": null,
   "id": "d862cce3",
   "metadata": {},
   "outputs": [],
   "source": []
  },
  {
   "cell_type": "markdown",
   "id": "46456db0-bcff-4d9c-aa90-0d05e760f7ec",
   "metadata": {},
   "source": [
    "## Part E - COMPARE, SUMMARIZE, REFLECT"
   ]
  },
  {
   "cell_type": "markdown",
   "id": "fed583af-c89b-410e-a86a-df614f2bf196",
   "metadata": {},
   "source": []
  },
  {
   "cell_type": "markdown",
   "id": "e73ac6f8-0590-4c98-a163-21a846cc73ce",
   "metadata": {},
   "source": [
    "# Submit\n",
    "\n",
    "Steps for submission:\n",
    "\n",
    "1. Run the cell below with `%reset -f`, which will clear any stored variables\n",
    "2. Comment out (put a # before) the line with `%reset -f`\n",
    "3. Click: Run => Run_All_Cells\n",
    "4. Read through the notebook to ensure all the cells executed correctly and without error.\n",
    "5. File => Save_and_Export_Notebook_As->HTML\n",
    "6. Upload the HTML document to the lab submission assignment on Canvas."
   ]
  },
  {
   "cell_type": "code",
   "execution_count": null,
   "id": "90c71abc",
   "metadata": {},
   "outputs": [],
   "source": [
    "%reset -f \n",
    "# Clear all variables, start with a clean environment.\n",
    "# comment out this line after you run it before you run all cells"
   ]
  }
 ],
 "metadata": {
  "kernelspec": {
   "display_name": "Python 3",
   "language": "python",
   "name": "python3"
  },
  "language_info": {
   "codemirror_mode": {
    "name": "ipython",
    "version": 3
   },
   "file_extension": ".py",
   "mimetype": "text/x-python",
   "name": "python",
   "nbconvert_exporter": "python",
   "pygments_lexer": "ipython3",
   "version": "3.8.8"
  },
  "widgets": {
   "application/vnd.jupyter.widget-state+json": {
    "state": {},
    "version_major": 2,
    "version_minor": 0
   }
  }
 },
 "nbformat": 4,
 "nbformat_minor": 5
}
