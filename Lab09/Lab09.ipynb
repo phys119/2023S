{
 "cells": [
  {
   "attachments": {},
   "cell_type": "markdown",
   "id": "8b42018a-744a-4a76-86d3-989d31c02420",
   "metadata": {
    "id": "61ed9912-a3b5-4024-b62b-49c912b1aa25"
   },
   "source": [
    "# Lab 09 - Radiation Shielding (Part 1)"
   ]
  },
  {
   "attachments": {},
   "cell_type": "markdown",
   "id": "0ce96c66-1b26-42d1-9e77-df222a6c2b5d",
   "metadata": {
    "id": "355521ea-d050-45f2-93d5-988f72f018a2"
   },
   "source": [
    "Edit this cell and provide the information requested:\n",
    "\n",
    "- Your name:\n",
    "- Your student number:\n",
    "- Partner's name:"
   ]
  },
  {
   "cell_type": "code",
   "execution_count": null,
   "id": "bdbafbb8-f7aa-4c12-9c3e-1c109fef8893",
   "metadata": {
    "id": "b795858f-a049-496e-a9bb-8128e61d49c3"
   },
   "outputs": [],
   "source": [
    "import numpy as np\n",
    "import data_entry2\n",
    "import matplotlib.pyplot as plt"
   ]
  },
  {
   "attachments": {},
   "cell_type": "markdown",
   "id": "2a446d18-0231-4fb0-a547-fb419576f28b",
   "metadata": {},
   "source": [
    "## Familiarize"
   ]
  },
  {
   "attachments": {},
   "cell_type": "markdown",
   "id": "3bf1ee22-e1f9-442b-9852-c97f7bf14733",
   "metadata": {},
   "source": []
  },
  {
   "attachments": {},
   "cell_type": "markdown",
   "id": "fe70bc6b-91cb-41bc-8fc2-5357a6e7defd",
   "metadata": {},
   "source": []
  },
  {
   "cell_type": "code",
   "execution_count": null,
   "id": "10c5569d-e385-4956-80f9-d026ae7004a5",
   "metadata": {},
   "outputs": [],
   "source": []
  },
  {
   "cell_type": "code",
   "execution_count": null,
   "id": "a7f530df-8e74-4d80-b540-f1ac35217ebb",
   "metadata": {},
   "outputs": [],
   "source": []
  },
  {
   "attachments": {},
   "cell_type": "markdown",
   "id": "098eacee-f21b-4459-9c2c-b0fcbb601400",
   "metadata": {},
   "source": [
    "# Submit\n",
    "\n",
    "Steps for submission:\n",
    "\n",
    "1. Run the cell below with `%reset -f`, which will clear any stored variables\n",
    "2. Comment out (put a # before) the line with `%reset -f`\n",
    "3. Click: Run => Run_All_Cells\n",
    "4. Read through the notebook to ensure all the cells executed correctly and without error.\n",
    "5. File => Save_and_Export_Notebook_As->HTML\n",
    "6. Upload the HTML document to the lab submission assignment on Canvas."
   ]
  },
  {
   "cell_type": "code",
   "execution_count": null,
   "id": "fc8f5ebe",
   "metadata": {},
   "outputs": [],
   "source": [
    "%reset -f \n",
    "# Clear all variables, start with a clean environment.\n",
    "# comment out this line after you run it before you run all cells"
   ]
  },
  {
   "cell_type": "code",
   "execution_count": null,
   "id": "625ddab6-2662-4ff2-8f21-2f45beda1d88",
   "metadata": {},
   "outputs": [],
   "source": [
    "display_sheets()"
   ]
  }
 ],
 "metadata": {
  "kernelspec": {
   "display_name": "Python 3 (ipykernel)",
   "language": "python",
   "name": "python3"
  },
  "language_info": {
   "codemirror_mode": {
    "name": "ipython",
    "version": 3
   },
   "file_extension": ".py",
   "mimetype": "text/x-python",
   "name": "python",
   "nbconvert_exporter": "python",
   "pygments_lexer": "ipython3",
   "version": "3.11.0"
  },
  "widgets": {
   "application/vnd.jupyter.widget-state+json": {
    "state": {},
    "version_major": 2,
    "version_minor": 0
   }
  }
 },
 "nbformat": 4,
 "nbformat_minor": 5
}
