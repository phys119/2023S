{
 "cells": [
  {
   "attachments": {},
   "cell_type": "markdown",
   "id": "8de8e3ae-6ec1-459d-8891-723280cf44fc",
   "metadata": {
    "id": "61ed9912-a3b5-4024-b62b-49c912b1aa25"
   },
   "source": [
    "# Lab 06 - Ohm's Law (Part 2)"
   ]
  },
  {
   "attachments": {},
   "cell_type": "markdown",
   "id": "303093f5-5a84-435b-a9d6-1a16f3ffa57c",
   "metadata": {
    "id": "355521ea-d050-45f2-93d5-988f72f018a2"
   },
   "source": [
    "Edit this cell and provide the information requested:\n",
    "\n",
    "- Your name:\n",
    "- Your student number:\n",
    "- Partner's name:"
   ]
  },
  {
   "cell_type": "code",
   "execution_count": 1,
   "id": "c1ccb1a5-b97d-4814-8c70-d2c0ea9b4c14",
   "metadata": {
    "id": "b795858f-a049-496e-a9bb-8128e61d49c3"
   },
   "outputs": [],
   "source": [
    "import numpy as np\n",
    "import data_entry2\n",
    "import matplotlib.pyplot as plt"
   ]
  },
  {
   "attachments": {},
   "cell_type": "markdown",
   "id": "e14d1686-3a61-41a0-8b19-8f1c3901e5b8",
   "metadata": {},
   "source": [
    "## Part A - Intro & Learning Activities"
   ]
  },
  {
   "attachments": {},
   "cell_type": "markdown",
   "id": "b80693b5-aaba-4802-80fb-c943594f6c6e",
   "metadata": {
    "id": "b5ad0fdd-d597-43e5-8f41-7473c348a560"
   },
   "source": [
    "***After reviewing and hearing feedback from the last lab, write some notes below about what you learned/what you could improve for this week.***"
   ]
  },
  {
   "attachments": {},
   "cell_type": "markdown",
   "id": "cb9b11bb-4ce0-415c-8b5a-cce2297469d5",
   "metadata": {
    "id": "f8ab58f4-f2bf-4517-a32e-e8626a910a48"
   },
   "source": []
  },
  {
   "attachments": {},
   "cell_type": "markdown",
   "id": "bc11a99d-7f2c-47dc-8d17-70897bfa648d",
   "metadata": {},
   "source": [
    "***Write notes below about the new tool we derived in the learning activity.***"
   ]
  },
  {
   "attachments": {},
   "cell_type": "markdown",
   "id": "518d538e-c0d3-4418-874a-db411d6558cb",
   "metadata": {},
   "source": []
  },
  {
   "attachments": {},
   "cell_type": "markdown",
   "id": "5a92851b-0d2c-4bdd-9148-c6d886bff8d3",
   "metadata": {},
   "source": [
    "## Part B - Revisiting the fit to last week's data"
   ]
  },
  {
   "attachments": {},
   "cell_type": "markdown",
   "id": "81c60ebc-e01a-4e6f-bdfd-d59b39e45f3c",
   "metadata": {},
   "source": [
    "- ***Using the new tool introduced in Part A, revisit last week’s data. Calculate the new goodness of fit statistic and see if you can further optimize your fit from last time.***\n",
    "- ***What is your revised best estimate of the resistance of your resistor?***\n",
    "- ***What can you conclude about whether the model describes the data?***"
   ]
  },
  {
   "cell_type": "code",
   "execution_count": null,
   "id": "2cd7e857-5bdb-47d2-85af-bf5fc5485e94",
   "metadata": {},
   "outputs": [],
   "source": []
  },
  {
   "attachments": {},
   "cell_type": "markdown",
   "id": "0943a0da-de32-434c-b6e4-12ea25661d66",
   "metadata": {},
   "source": [
    "## Part C -  Familiarize Part I (Build your circuit)"
   ]
  },
  {
   "attachments": {},
   "cell_type": "markdown",
   "id": "7a5442b1-2c90-405f-9d3f-8f6dff63c1ee",
   "metadata": {},
   "source": [
    "***Include below any notes useful for building the circuit***"
   ]
  },
  {
   "attachments": {},
   "cell_type": "markdown",
   "id": "99fa2e72-f70f-44b2-91e0-2b001b33f4ac",
   "metadata": {},
   "source": []
  },
  {
   "attachments": {},
   "cell_type": "markdown",
   "id": "e936ce58-5c02-4063-87c7-8f264d1c96bc",
   "metadata": {},
   "source": [
    "## Part D - Familiarize Part II (Explore)"
   ]
  },
  {
   "attachments": {},
   "cell_type": "markdown",
   "id": "755e21ac-f2c7-42d8-a98a-7b2a4d5cff46",
   "metadata": {},
   "source": [
    "***Explore the operation of the circuit. What ranges should you set the multimeters to? Why did you choose those ranges? Once you’ve chosen ranges, stick with them!***"
   ]
  },
  {
   "cell_type": "code",
   "execution_count": null,
   "id": "abe09cc7-7b08-44cf-ab06-4d46e68b424b",
   "metadata": {},
   "outputs": [],
   "source": []
  },
  {
   "attachments": {},
   "cell_type": "markdown",
   "id": "5fd43319-b167-4a89-a425-6af506ab8100",
   "metadata": {},
   "source": [
    "## Part E - Measure, Analyze, Reflect"
   ]
  },
  {
   "attachments": {},
   "cell_type": "markdown",
   "id": "5ddcddcb-faae-43be-86c5-ad20d24d82c4",
   "metadata": {},
   "source": [
    "***Create a new spreadsheet for this week’s new data, and collect current and voltage measurements for the light bulb. Make a scatterplot with model. Use the residuals plot and the new goodness-of-fit statistic to find the best fit to the $I = (1/R)V$ model predicted by Ohm's law.***\n",
    "- ***How do your results for the lightbulb compare with those for the resistor?***\n",
    "- ***What does your chi-squared value mean? What does your residual plot look like?***\n",
    "- ***How do your results compare with other groups at your table?***"
   ]
  },
  {
   "cell_type": "code",
   "execution_count": null,
   "id": "0ba2f6c1-0533-4f6d-8818-21cea7dcbeb5",
   "metadata": {},
   "outputs": [],
   "source": []
  },
  {
   "attachments": {},
   "cell_type": "markdown",
   "id": "d2fef773-83f2-4bcc-9a00-38a2d588ace7",
   "metadata": {},
   "source": []
  },
  {
   "attachments": {},
   "cell_type": "markdown",
   "id": "854ac493-4037-42c4-8f6b-68188f458544",
   "metadata": {},
   "source": [
    "## Part F - Iterate and Improve"
   ]
  },
  {
   "attachments": {},
   "cell_type": "markdown",
   "id": "6f64973d-29db-4056-bf2a-0b32468b1784",
   "metadata": {},
   "source": [
    "***Brainstorm, justify, and execute improvements to your measurement.***"
   ]
  },
  {
   "cell_type": "code",
   "execution_count": null,
   "id": "6ce9fa9d-93e5-4156-aec2-94fb376d0490",
   "metadata": {},
   "outputs": [],
   "source": []
  },
  {
   "attachments": {},
   "cell_type": "markdown",
   "id": "1be072de-eb92-4347-b8df-abf0eaf37d1d",
   "metadata": {},
   "source": [
    "## Part G - Completing the Lab"
   ]
  },
  {
   "attachments": {},
   "cell_type": "markdown",
   "id": "30c4e18b-875f-424e-8939-ecd579cc7daa",
   "metadata": {},
   "source": [
    "***Tips:***\n",
    "- ***A brief summary of how your key results and the results of your analysis and comparisons evolved throughout the lab.***\n",
    "- ***State your slopes and resistances from Lab 05 and 06 following the significant figure rules***\n",
    "- ***1-2 sentences addressing the experimental goal and describing the conclusions you can make from the results of your comparisons between Lab 05 and 06.***\n",
    "- ***1-2 sentences summarizing your comparisons with other groups***"
   ]
  },
  {
   "cell_type": "code",
   "execution_count": null,
   "id": "1177e7c9-47be-4a1b-b5d9-45476e0228d8",
   "metadata": {},
   "outputs": [],
   "source": []
  },
  {
   "attachments": {},
   "cell_type": "markdown",
   "id": "1de977e3-3d41-41e1-b1ab-95e9bb92bd9f",
   "metadata": {},
   "source": [
    "# Submit\n",
    "\n",
    "Steps for submission:\n",
    "\n",
    "1. Run the cell below with `%reset -f`, which will clear any stored variables\n",
    "2. Comment out (put a # before) the line with `%reset -f`\n",
    "3. Click: Run => Run_All_Cells\n",
    "4. Read through the notebook to ensure all the cells executed correctly and without error.\n",
    "5. File => Save_and_Export_Notebook_As->HTML\n",
    "6. Upload the HTML document to the lab submission assignment on Canvas."
   ]
  },
  {
   "cell_type": "code",
   "execution_count": null,
   "id": "fd053003",
   "metadata": {},
   "outputs": [],
   "source": [
    "%reset -f \n",
    "# Clear all variables, start with a clean environment.\n",
    "# comment out this line after you run it before you run all cells"
   ]
  },
  {
   "cell_type": "code",
   "execution_count": null,
   "id": "ec5f41ef-d3a4-42fb-9883-1649d9c3434c",
   "metadata": {},
   "outputs": [],
   "source": [
    "display_sheets()"
   ]
  }
 ],
 "metadata": {
  "kernelspec": {
   "display_name": "Python 3",
   "language": "python",
   "name": "python3"
  },
  "language_info": {
   "codemirror_mode": {
    "name": "ipython",
    "version": 3
   },
   "file_extension": ".py",
   "mimetype": "text/x-python",
   "name": "python",
   "nbconvert_exporter": "python",
   "pygments_lexer": "ipython3",
   "version": "3.8.8"
  },
  "widgets": {
   "application/vnd.jupyter.widget-state+json": {
    "state": {},
    "version_major": 2,
    "version_minor": 0
   }
  }
 },
 "nbformat": 4,
 "nbformat_minor": 5
}
