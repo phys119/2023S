{
 "cells": [
  {
   "cell_type": "markdown",
   "id": "0b9caaf1-fb8b-429f-bb3f-5715cc1c324c",
   "metadata": {},
   "source": [
    "# Lab 08 - RC Circuits II (Make-Up Lab Version)"
   ]
  },
  {
   "cell_type": "markdown",
   "id": "ce0ac33c-4510-4a29-b4d3-dfd605dff94d",
   "metadata": {},
   "source": [
    "Edit this cell and provide the information requested:\n",
    "\n",
    "- Your name:\n",
    "- Your student number:"
   ]
  },
  {
   "cell_type": "code",
   "execution_count": null,
   "id": "2f468deb-066b-4b13-aded-15b9fabd4c6e",
   "metadata": {
    "tags": []
   },
   "outputs": [],
   "source": [
    "import numpy as np\n",
    "import data_entry2\n",
    "import matplotlib.pyplot as plt"
   ]
  },
  {
   "cell_type": "markdown",
   "id": "856cf8f2-ea8c-4523-b719-f9a41b2dd61f",
   "metadata": {
    "tags": []
   },
   "source": [
    "## PART A - INTRO"
   ]
  },
  {
   "cell_type": "markdown",
   "id": "913eee87-c0aa-4375-9096-28cbcfd5d2d4",
   "metadata": {},
   "source": [
    "***Write any notes from the review of the analytic formula for minimizing chi-squared.***"
   ]
  },
  {
   "cell_type": "markdown",
   "id": "557e3b2c-86ca-4fbe-a0e3-6cefb3db450f",
   "metadata": {},
   "source": []
  },
  {
   "cell_type": "markdown",
   "id": "6d252924-7a9a-46e8-bc2e-46d2a575f7fa",
   "metadata": {},
   "source": [
    "## PART B - FAMILIARIZATION & IMPROVEMENT REFLECTIONS"
   ]
  },
  {
   "cell_type": "markdown",
   "id": "e249e9eb-15da-4e6b-9c4c-794a48d1b0e0",
   "metadata": {},
   "source": []
  },
  {
   "cell_type": "markdown",
   "id": "f01fa510-3f6c-4b5e-a538-cf36e4565087",
   "metadata": {},
   "source": [
    "## PART C - DATA COLLECTION"
   ]
  },
  {
   "cell_type": "markdown",
   "id": "8be73253-2d10-4ef2-9e3d-1a8df10900f3",
   "metadata": {},
   "source": []
  },
  {
   "cell_type": "code",
   "execution_count": null,
   "id": "e32b8548-92cc-4f21-a1c4-53839ff4f686",
   "metadata": {},
   "outputs": [],
   "source": []
  },
  {
   "cell_type": "markdown",
   "id": "2191def5-90c9-4f85-a972-9a0e05295df7",
   "metadata": {},
   "source": [
    "## PART D - DATA ANALYSIS AND COMPARISON"
   ]
  },
  {
   "cell_type": "markdown",
   "id": "3f28db3a-b86a-4844-8ade-14b8ea71f64c",
   "metadata": {},
   "source": []
  },
  {
   "cell_type": "code",
   "execution_count": null,
   "id": "d1e7ebd5-2c22-4572-95b4-621738e4b393",
   "metadata": {},
   "outputs": [],
   "source": []
  },
  {
   "cell_type": "markdown",
   "id": "de1438d6-3c1f-46b6-80cc-72a21901c5d4",
   "metadata": {},
   "source": [
    "## PART E - Finishing Things Off"
   ]
  },
  {
   "cell_type": "markdown",
   "id": "36854a98-b618-4095-9d1f-5c5000a7c926",
   "metadata": {},
   "source": [
    "***Suggest at least two specific improvements that could improve the quality of individual data points or the overall data set, though you will not be able to carrying them out due to the structure of video data collection.***"
   ]
  },
  {
   "cell_type": "markdown",
   "id": "6a891be3-b75c-42ce-8d0b-1c3b7772a75d",
   "metadata": {},
   "source": []
  },
  {
   "cell_type": "markdown",
   "id": "1033b621-091e-4ae7-96a6-9c2ebc859baf",
   "metadata": {},
   "source": [
    "# Submit\n",
    "\n",
    "Steps for submission:\n",
    "\n",
    "1. Run the cell below with `%reset -f`, which will clear any stored variables\n",
    "2. Comment out (put a # before) the line with `%reset -f`\n",
    "3. Click: Run => Run_All_Cells\n",
    "4. Read through the notebook to ensure all the cells executed correctly and without error.\n",
    "5. File => Save_and_Export_Notebook_As->HTML\n",
    "6. Upload the HTML document to the lab submission assignment on Canvas."
   ]
  },
  {
   "cell_type": "code",
   "execution_count": null,
   "id": "f7f055b3",
   "metadata": {},
   "outputs": [],
   "source": [
    "%reset -f \n",
    "# Clear all variables, start with a clean environment.\n",
    "# comment out this line after you run it before you run all cells"
   ]
  }
 ],
 "metadata": {
  "kernelspec": {
   "display_name": "Python 3",
   "language": "python",
   "name": "python3"
  },
  "language_info": {
   "codemirror_mode": {
    "name": "ipython",
    "version": 3
   },
   "file_extension": ".py",
   "mimetype": "text/x-python",
   "name": "python",
   "nbconvert_exporter": "python",
   "pygments_lexer": "ipython3",
   "version": "3.8.8"
  },
  "widgets": {
   "application/vnd.jupyter.widget-state+json": {
    "state": {},
    "version_major": 2,
    "version_minor": 0
   }
  }
 },
 "nbformat": 4,
 "nbformat_minor": 5
}
