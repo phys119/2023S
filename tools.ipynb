{
 "cells": [
  {
   "attachments": {},
   "cell_type": "markdown",
   "id": "1eab7082",
   "metadata": {},
   "source": [
    "# Tools"
   ]
  },
  {
   "attachments": {},
   "cell_type": "markdown",
   "id": "93013f1f",
   "metadata": {},
   "source": [
    "**This is a mostly blank document for you to keep track of any code, equations, text,.. that you might find helpful to refer to in future labs.**"
   ]
  },
  {
   "attachments": {},
   "cell_type": "markdown",
   "id": "3bab0caf",
   "metadata": {},
   "source": [
    "## General Python code help"
   ]
  },
  {
   "cell_type": "code",
   "execution_count": 1,
   "id": "9f26abe0",
   "metadata": {},
   "outputs": [],
   "source": [
    "import numpy as np #you probably want this each week for lots of useful maths functions"
   ]
  },
  {
   "cell_type": "code",
   "execution_count": 2,
   "id": "455b0406",
   "metadata": {},
   "outputs": [
    {
     "name": "stdout",
     "output_type": "stream",
     "text": [
      "24\n"
     ]
    }
   ],
   "source": [
    "# How to take the absolute value of x\n",
    "x = -24\n",
    "xabs = np.abs(x)\n",
    "print(xabs) # check you did it right"
   ]
  },
  {
   "attachments": {},
   "cell_type": "markdown",
   "id": "d4f7b74a",
   "metadata": {},
   "source": [
    "## Now the rest is up to you!!!"
   ]
  },
  {
   "attachments": {},
   "cell_type": "markdown",
   "id": "003f48bc",
   "metadata": {},
   "source": [
    "## Lab00"
   ]
  },
  {
   "cell_type": "code",
   "execution_count": null,
   "id": "3bd2652b",
   "metadata": {},
   "outputs": [],
   "source": []
  }
 ],
 "metadata": {
  "kernelspec": {
   "display_name": "Python 3 (ipykernel)",
   "language": "python",
   "name": "python3"
  },
  "language_info": {
   "codemirror_mode": {
    "name": "ipython",
    "version": 3
   },
   "file_extension": ".py",
   "mimetype": "text/x-python",
   "name": "python",
   "nbconvert_exporter": "python",
   "pygments_lexer": "ipython3",
   "version": "3.9.13"
  }
 },
 "nbformat": 4,
 "nbformat_minor": 5
}
