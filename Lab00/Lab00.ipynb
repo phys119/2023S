{
 "cells": [
  {
   "attachments": {},
   "cell_type": "markdown",
   "id": "38c874a6-cae3-4f94-931a-173155fa86d3",
   "metadata": {
    "tags": []
   },
   "source": [
    "# Lab 00 - Introduction to Jupyter"
   ]
  },
  {
   "attachments": {},
   "cell_type": "markdown",
   "id": "a17e32ac-bb67-4311-ba68-aaf5766d1291",
   "metadata": {},
   "source": [
    "In this Jupyter notebook, we will go through some basics of using Jupyter notebooks. This will be the medium which encompasses your lab notebook, data recording, and data analysis!\n",
    "\n",
    "We know that for many of you this will be your first encounter with Jupyter notebooks and with coding in general. It is perfectly normal if you feel some cognitive overload as you go through this notebook with all the new information. We will revisit a lot of this material as we continue in future labs and pre-labs.\n",
    "\n",
    "The first thing to know is that the notebook you are working in today is stored 'in the cloud' in a service operated by UBC. You are working in your own copy of this document and any changes you make to it are automatically saved frequently. If you want to force it to save immediately, you can type: CTRL+S, or go to File->Save Notebook. "
   ]
  },
  {
   "attachments": {},
   "cell_type": "markdown",
   "id": "8282c5b1-ade2-4c3f-a844-55ad3894e4bc",
   "metadata": {
    "tags": []
   },
   "source": [
    "## Cells - Code and Markdown"
   ]
  },
  {
   "attachments": {},
   "cell_type": "markdown",
   "id": "d7695526-6e26-4ca6-9c4b-2889d944d320",
   "metadata": {},
   "source": [
    "The first thing we will introduce is the \"base unit\" of the Jupyter notebook, the \"cell.\" There are two types of cells; Code cells (where you can write and run Python code) and Markdown cells (where you can write text, and also create headings and equations). The benefit of using a Jupyter notebook for these labs is that you can seamlessly alternate between Markdown and Code cells. In a PHYS 119 lab session, we will generally have periods of notetaking when you are familiarizing yourself with the equipment for an experiment, coming up with a measurement plan, explaining your results and analysis, as well as planning and executing improvements. At other times, you will be using Python code to perform analysis and calculations on your data. A Jupyter notebook thus allows you to seamlessly transition between notetaking and analysis. Formatted text is entered in Markdown while the analysis will be done in a programming language called Python.\n",
    "\n",
    "This cell that you are currently reading is a markdown cell."
   ]
  },
  {
   "cell_type": "code",
   "execution_count": 3,
   "id": "82f2910b-46fc-49cb-a115-38901d7af276",
   "metadata": {},
   "outputs": [],
   "source": [
    "# This cell is a code cell.\n",
    "x = 3.1415\n",
    "y = 2.7\n",
    "z = x + y"
   ]
  },
  {
   "attachments": {},
   "cell_type": "markdown",
   "id": "64e834a1-0ae2-49da-9ee9-e0f0d43bd6e4",
   "metadata": {
    "tags": []
   },
   "source": [
    "## Editing and Running Markdown Cells"
   ]
  },
  {
   "attachments": {},
   "cell_type": "markdown",
   "id": "7cf12e6e-d085-4dfa-831d-780f9b29eb14",
   "metadata": {},
   "source": [
    "Markdown cells can be edited by double clicking them. They can be then run (to be displayed in formatted form) either by pressing Shift+Enter, or by clicking the \"play\" button in the top toolbar.\n",
    "\n",
    "**Try it!**\n",
    "- double click on this cell\n",
    "- add your favourite quote between the quotation marks at the bottom, \n",
    "- use Shift+Enter to 'execute' the cell \n",
    "\n",
    "(where for a markdown cell, 'execute' just means: display the formatted text).\n",
    "\n",
    "\" \""
   ]
  },
  {
   "attachments": {},
   "cell_type": "markdown",
   "id": "74d4bb5f-3027-409f-9b38-1161a89880e4",
   "metadata": {
    "tags": []
   },
   "source": [
    "## Adding New Cells"
   ]
  },
  {
   "attachments": {},
   "cell_type": "markdown",
   "id": "92689b3a-5a60-468f-9ff0-bec7ae4aa80c",
   "metadata": {},
   "source": [
    "New cells can be added using the \"+\" button that you see in the top toolbar (in between the floppy disk (save) and scissor (cut) buttons). You can add a new cell above the currently highlighted cell (indicated by a blue bar on the left side) by pressing Esc - a (Esc first, then a) or a cell below with Esc - b. \n",
    "\n",
    "After creating a new cell, you can change the cell type using the dropdown menu in the same toolbar (to the right of the 'double play' (rerun notebook) button. You can choose between Markdown, Code and Raw.\n",
    "\n",
    "**Try it:**\n",
    "- Create a new cell now using the '+' button\n",
    "- change the type to Markdown\n",
    "- Write a few words\n",
    "- 'Execute' the cell with Shift-Enter"
   ]
  },
  {
   "attachments": {},
   "cell_type": "markdown",
   "id": "14c39ad2-ff34-46c9-8b0b-1f7cfe8d49c5",
   "metadata": {
    "tags": []
   },
   "source": [
    "## Typefaces, Headings & Lists in Markdown"
   ]
  },
  {
   "attachments": {},
   "cell_type": "markdown",
   "id": "643976d8-6f45-428a-9246-d2b32e0bba9f",
   "metadata": {},
   "source": [
    "Within Markdown, we can do things like making text **bold** or *in italics* (or ***both***).\n",
    "\n",
    "In this cell, and in those below, you can see how to do the formatting by double clicking the cell to see the editable text, then use Shift+Enter to return to the formatted version."
   ]
  },
  {
   "attachments": {},
   "cell_type": "markdown",
   "id": "e77f5c91-5967-4067-94a4-982faac9156f",
   "metadata": {},
   "source": [
    "Headings can be created by placing \"#\" symbols at the beginning of a line of markdown text. The more #s you have in front of a heading, the smaller the heading it will be (e.g # Large Heading, ## Medium Heading, ### Small Heading). You can also compress the size of a notebook by hiding cells under a heading; you can hide/unhide by clicking the triangle to the left of any given heading."
   ]
  },
  {
   "attachments": {},
   "cell_type": "markdown",
   "id": "cb6e9a7d-f95f-414b-9013-8e3fb29ad5aa",
   "metadata": {
    "tags": []
   },
   "source": [
    "### This is a small heading"
   ]
  },
  {
   "attachments": {},
   "cell_type": "markdown",
   "id": "c313b66e-1d74-4caa-8b79-fd038f32575b",
   "metadata": {},
   "source": [
    "You can make numbered lists in markdown:\n",
    "1. First entry\n",
    "2. Second entry\n",
    "3. Third entry\n",
    "\n",
    "Or unnumbered bullet points:\n",
    "- A thing\n",
    "- Another thing\n",
    "- Yet another thing\n",
    "\n",
    "both of which may be useful for taking notes.\n",
    "\n",
    "It's also useful to know about ~~strike through~~ for when you want to go back and \"remove\" text. In lab notebooks nothing should ever be removed - but sometimes you realize that you weren't on the right track and want to indicate that you're thinking has changed. You start and end strikethrough with a pair of tildes: ~"
   ]
  },
  {
   "attachments": {},
   "cell_type": "markdown",
   "id": "f991a28d-7367-4c7b-ae59-dd1a6de5d2a7",
   "metadata": {
    "tags": []
   },
   "source": [
    "## Formatting Math in Markdown"
   ]
  },
  {
   "attachments": {},
   "cell_type": "markdown",
   "id": "7c7cddb0-40bb-4031-a255-d4aa63d48e1d",
   "metadata": {},
   "source": [
    "A powerful part of Markdown is the ability to type mathematical expressions through a typesetting system known as $\\LaTeX$. While we won't require any real proficiency with $\\LaTeX$ in this course, it may be useful for formatting the various equations that we will come across when looking at various physical laws or formulas for calculating uncertainties. Most of the time, we will provide you with a formula and you can copy + paste it into your notebook."
   ]
  },
  {
   "attachments": {},
   "cell_type": "markdown",
   "id": "da52a2c4-d39c-40f6-9274-390fa4410510",
   "metadata": {},
   "source": [
    "If you want to type mathematical expressions \"in-line\", surround them with single \\\\$s. For example:\n",
    "\n",
    "The mass-energy equivalence $E = mc^2$ is attributed to Albert Einstein."
   ]
  },
  {
   "attachments": {},
   "cell_type": "markdown",
   "id": "ba60c500-ed23-4bf9-aabf-75247dff3e15",
   "metadata": {},
   "source": [
    "If you want to type mathematical expressions as equations, surround them with double \\\\$s. For example:\n",
    "\n",
    "The solution to the quadratic equation $ax^2 + bx + c= 0$ is given by:\n",
    "\n",
    "$$ x = \\frac{-b \\pm \\sqrt{b^2 - 4ac}}{2a}$$"
   ]
  },
  {
   "attachments": {},
   "cell_type": "markdown",
   "id": "b85524b9-7452-4f29-a4c2-a83549c6ab3c",
   "metadata": {
    "tags": []
   },
   "source": [
    "## How to Write Math in Markdown (Optional)"
   ]
  },
  {
   "attachments": {},
   "cell_type": "markdown",
   "id": "a67cbb17-8e9e-4815-bf9b-b191bb778575",
   "metadata": {},
   "source": [
    "\"+\", \"-\", and \"=\", and numbers/symbols can be typed in $\\LaTeX$ as you would do normally. Some other commands that that may come in useful are below for your reference:\n",
    "\n",
    "Multiplication:\n",
    "$$A \\cdot B \\text{ or } A \\times B$$\n",
    "\n",
    "Division/Fractions:\n",
    "$$A / B \\ \\textrm{or}\\  \\frac{A}{B}$$\n",
    "\n",
    "Powers:\n",
    "$$y^{1/3} = x^2$$\n",
    "\n",
    "Roots:\n",
    "$$\\sqrt{2} \\neq \\sqrt[3]{2}$$\n",
    "\n",
    "Sums:\n",
    "$$y = \\sum_{i=1}^N x_i$$"
   ]
  },
  {
   "attachments": {},
   "cell_type": "markdown",
   "id": "b223c35b-0f48-417d-9c0f-77aed72f44fd",
   "metadata": {},
   "source": [
    "One can also type in Greek letters by typing the name of the Greek letter preceded by a backslash \\. Some that may be encountered during the lab are $\\sigma$, $\\Delta$ and $\\chi$. "
   ]
  },
  {
   "attachments": {},
   "cell_type": "markdown",
   "id": "345f94bc-3329-4ff8-a224-3fe2287c677f",
   "metadata": {},
   "source": [
    "There is a whole world of markdown that we have not completely explored in this tutorial, but the curious can discover more! There is a short reference of the basics under the Help menu at the top of the Jupyter interface: Help->Markdown Reference. There is much more information at https://www.markdownguide.org. A two-page cheatsheet for math typesetting with $\\LaTeX$ can be found at http://tug.ctan.org/info/undergradmath/undergradmath.pdf."
   ]
  },
  {
   "attachments": {},
   "cell_type": "markdown",
   "id": "82b1aede-dcc7-423b-864c-82678bd4cda5",
   "metadata": {
    "tags": []
   },
   "source": [
    "## Editing and Running Code Cells"
   ]
  },
  {
   "attachments": {},
   "cell_type": "markdown",
   "id": "df722f8c-3f74-4312-86ac-aa5f1867439c",
   "metadata": {},
   "source": [
    "All the data taking, analysis, and display in this course will be done through Python. Like with $\\LaTeX$, we will not expect extensive knowledge or proficiency in this course (but those curious can look forward to PHYS 210!) However, we will want to become familiar enough to adapt and understand the provided code to accomplish the tasks for each lab.\n",
    "\n",
    "Code cells can be edited by clicking and typing. They can be executed just like markdown cells, by clicking the \"play\" button in the top toolbar, or by Shift + Enter. Either will run the python code in that cell."
   ]
  },
  {
   "cell_type": "code",
   "execution_count": 4,
   "id": "39059471-5914-4665-879f-a899ccdb26f8",
   "metadata": {},
   "outputs": [],
   "source": [
    "# This is a code cell.\n",
    "# Python treats any lines with a \"#\" in front as a comment.\n",
    "# So these lines will do nothing even if the cell is run.\n",
    "\n",
    "x = 5  # You can also put comments after code."
   ]
  },
  {
   "attachments": {},
   "cell_type": "markdown",
   "id": "5725f504-31a5-40d7-aa0f-3898b2faa528",
   "metadata": {
    "tags": []
   },
   "source": [
    "## Arithmetic in python"
   ]
  },
  {
   "attachments": {},
   "cell_type": "markdown",
   "id": "a03b6d31-c28d-4a9c-bfc7-9fe8566c5626",
   "metadata": {},
   "source": [
    "Arithmetic in python with numbers works almost exactly like you would expect it! Execute each of the cells below:"
   ]
  },
  {
   "cell_type": "code",
   "execution_count": 5,
   "id": "727dc7a5-63ce-49c3-8bf4-4554132ffcfd",
   "metadata": {},
   "outputs": [
    {
     "data": {
      "text/plain": [
       "3"
      ]
     },
     "execution_count": 5,
     "metadata": {},
     "output_type": "execute_result"
    }
   ],
   "source": [
    "# Addition\n",
    "1 + 2"
   ]
  },
  {
   "cell_type": "code",
   "execution_count": 6,
   "id": "077005dd-7d92-48ca-9d9c-0aa6c60d94ef",
   "metadata": {},
   "outputs": [
    {
     "data": {
      "text/plain": [
       "1.3"
      ]
     },
     "execution_count": 6,
     "metadata": {},
     "output_type": "execute_result"
    }
   ],
   "source": [
    "# Subtraction\n",
    "2.5 - 1.2"
   ]
  },
  {
   "cell_type": "code",
   "execution_count": 7,
   "id": "c4711372-276f-4401-bf73-83a1d5a31520",
   "metadata": {},
   "outputs": [
    {
     "data": {
      "text/plain": [
       "6"
      ]
     },
     "execution_count": 7,
     "metadata": {},
     "output_type": "execute_result"
    }
   ],
   "source": [
    "# Multiplication\n",
    "2 * 3"
   ]
  },
  {
   "cell_type": "code",
   "execution_count": 8,
   "id": "78ca2ac4-8354-4938-b923-a17ae650f5c7",
   "metadata": {},
   "outputs": [
    {
     "data": {
      "text/plain": [
       "3.0"
      ]
     },
     "execution_count": 8,
     "metadata": {},
     "output_type": "execute_result"
    }
   ],
   "source": [
    "# Division\n",
    "6 / 2"
   ]
  },
  {
   "cell_type": "code",
   "execution_count": 9,
   "id": "fffeb48e-bb7c-41c0-b1c2-cba98eae58c8",
   "metadata": {},
   "outputs": [
    {
     "data": {
      "text/plain": [
       "8"
      ]
     },
     "execution_count": 9,
     "metadata": {},
     "output_type": "execute_result"
    }
   ],
   "source": [
    "# Exponentiation\n",
    "2**3  # Note the use of ** and not ^ (which means something completely different) in python"
   ]
  },
  {
   "cell_type": "code",
   "execution_count": 10,
   "id": "c865d1c5-1097-4eb0-85b8-1c1a8e0f5af0",
   "metadata": {},
   "outputs": [
    {
     "data": {
      "text/plain": [
       "2.0"
      ]
     },
     "execution_count": 10,
     "metadata": {},
     "output_type": "execute_result"
    }
   ],
   "source": [
    "# Roots\n",
    "4**(1/2)"
   ]
  },
  {
   "attachments": {},
   "cell_type": "markdown",
   "id": "74948a64-fdb6-4c44-a98f-0c9c6e116ca5",
   "metadata": {
    "tags": []
   },
   "source": [
    "## Variables in python, printing"
   ]
  },
  {
   "attachments": {},
   "cell_type": "markdown",
   "id": "daf5bc04-9e37-401e-b2a7-fae4392dc80f",
   "metadata": {},
   "source": [
    "It will be useful to store and handle values symbolically (instead of just working with individual numbers all the time). To this end, we introduce variables. The cell below can be run to set the value of the variable `x` to be 7. In python, the \"=\" symbol is used as an assignment operator, rather than checking if two things are equal (confusingly, that task is done by a double equals sign \"==\"... but this will not be necessary for this course!)"
   ]
  },
  {
   "cell_type": "code",
   "execution_count": 11,
   "id": "bf164117-ab26-4c9d-b836-1486c1386a50",
   "metadata": {},
   "outputs": [],
   "source": [
    "x = 7"
   ]
  },
  {
   "attachments": {},
   "cell_type": "markdown",
   "id": "735180bd-e396-46c0-8d0f-a4fd3ae7ed3e",
   "metadata": {},
   "source": [
    "This stored value now persists across cells, so you can use this in future cells:"
   ]
  },
  {
   "cell_type": "code",
   "execution_count": 12,
   "id": "0f6295af-5b47-40ee-b89c-5d0cee5234cd",
   "metadata": {},
   "outputs": [
    {
     "data": {
      "text/plain": [
       "7"
      ]
     },
     "execution_count": 12,
     "metadata": {},
     "output_type": "execute_result"
    }
   ],
   "source": [
    "x"
   ]
  },
  {
   "attachments": {},
   "cell_type": "markdown",
   "id": "5d8ee407-79f9-4c64-9b94-b35a9a88f259",
   "metadata": {},
   "source": [
    "However, sometimes you will want to see the value of something not just at the end of the cell (as we have been doing now) but at some intermediate point in the cell. For this, the print function is very useful. Try running the cell below, where we assign some values, and along the way `print` the value of `a` to see what it is:"
   ]
  },
  {
   "cell_type": "code",
   "execution_count": 13,
   "id": "ef659ee9-dffc-42f7-b112-7761e451ef33",
   "metadata": {
    "tags": []
   },
   "outputs": [
    {
     "name": "stdout",
     "output_type": "stream",
     "text": [
      "1.407\n"
     ]
    }
   ],
   "source": [
    "a = 1.407\n",
    "print(a)\n",
    "b = 20.7"
   ]
  },
  {
   "attachments": {},
   "cell_type": "markdown",
   "id": "df583a7c-b978-4a24-9da4-92b0dbdba96b",
   "metadata": {},
   "source": [
    "Note that we can also do all the usual arithmetic operations on variables (provided that the variables store numbers). For example, what do you expect the value of `c` to be below?"
   ]
  },
  {
   "cell_type": "code",
   "execution_count": 14,
   "id": "13ffb573-2ab4-4b37-8869-b6c65f3d3d49",
   "metadata": {},
   "outputs": [
    {
     "name": "stdout",
     "output_type": "stream",
     "text": [
      "22.107\n"
     ]
    }
   ],
   "source": [
    "c = a + b\n",
    "print(c)"
   ]
  },
  {
   "attachments": {},
   "cell_type": "markdown",
   "id": "4771aa16-360d-4a9f-a1d0-b26ed39b5b30",
   "metadata": {},
   "source": [
    "We can also overwrite variables; `c` will be a new value when you run the following cell:"
   ]
  },
  {
   "cell_type": "code",
   "execution_count": 15,
   "id": "eb62442d-a147-4645-ba37-2ca8ee8f0e63",
   "metadata": {},
   "outputs": [
    {
     "name": "stdout",
     "output_type": "stream",
     "text": [
      "29.1249\n"
     ]
    }
   ],
   "source": [
    "c = a * b\n",
    "print(c)"
   ]
  },
  {
   "attachments": {},
   "cell_type": "markdown",
   "id": "d1b85df5",
   "metadata": {},
   "source": [
    "We may want to combine text and valiables in the same print statement. There are a couple ways to do this. \n",
    "\n",
    "The simple way to separate the words and vaiables you want to print with commas. "
   ]
  },
  {
   "cell_type": "code",
   "execution_count": 16,
   "id": "20f53a74",
   "metadata": {},
   "outputs": [
    {
     "name": "stdout",
     "output_type": "stream",
     "text": [
      "Let's print our variables, a = 1.407 b = 20.7 c = 29.1249\n"
     ]
    }
   ],
   "source": [
    "print(\"Let's print our variables, a =\", a, \"b =\", b, \"c =\", c)"
   ]
  },
  {
   "attachments": {},
   "cell_type": "markdown",
   "id": "43352f45",
   "metadata": {},
   "source": [
    "We can also print with string (or word) formatting, using the str.format() method. "
   ]
  },
  {
   "cell_type": "code",
   "execution_count": 17,
   "id": "55789465",
   "metadata": {},
   "outputs": [
    {
     "name": "stdout",
     "output_type": "stream",
     "text": [
      "Let's print our variables, a = 1.407, b = 20.7, c = 29.1249\n"
     ]
    }
   ],
   "source": [
    "print(\"Let's print our variables, a = {}, b = {}, c = {}\".format(a, b, c))"
   ]
  },
  {
   "attachments": {},
   "cell_type": "markdown",
   "id": "78e6b31e",
   "metadata": {},
   "source": [
    "Maybe we want to only show our variables to fewer decimal places. We can add extra arguments within the curly braces. \n",
    "\n",
    "We can use ':.2f' to print to two decimal places. 'f' is for fixed-point, 2 is the number of decimal places. \n",
    "\n",
    "We can also use ':.2e' to print in scientific notation. Here if we use 2, we will get 2+1, or three signifigant figures."
   ]
  },
  {
   "cell_type": "code",
   "execution_count": 18,
   "id": "13f488d2",
   "metadata": {},
   "outputs": [
    {
     "name": "stdout",
     "output_type": "stream",
     "text": [
      "Let's print our variables using fixed-point notation, a = 1.41, b = 20.70, c = 29.12\n",
      "Let's print our variables in scientific notation, a = 1.41e+00, b = 2.07e+01, c = 2.91e+01\n"
     ]
    }
   ],
   "source": [
    "print(\"Let's print our variables using fixed-point notation, a = {:.2f}, b = {:.2f}, c = {:.2f}\".format(a, b, c))\n",
    "print(\"Let's print our variables in scientific notation, a = {:.2e}, b = {:.2e}, c = {:.2e}\".format(a, b, c))"
   ]
  },
  {
   "attachments": {},
   "cell_type": "markdown",
   "id": "e9b0b907",
   "metadata": {},
   "source": [
    "(optional) You can read more about string formatting in the documantation : https://docs.python.org/3/library/string.html#formatstrings.\n",
    "Or you can google things like \"How to print to two decimal places python\". "
   ]
  },
  {
   "attachments": {},
   "cell_type": "markdown",
   "id": "1358f51a",
   "metadata": {},
   "source": [
    "## Arrays in python"
   ]
  },
  {
   "attachments": {},
   "cell_type": "markdown",
   "id": "745300c4",
   "metadata": {},
   "source": [
    "Since we will be taking measurements in this class, we often want to store multiple measurements in one variable. To do this we will use numpy arrays, whcih can store several numbers. \n",
    "\n",
    "\n",
    "First, we need to bring in some extra functions into python. To do this we import the numpy module. \n",
    "The command below imports the module 'numpy' and renames it to 'np'. We do this so that we can use numpy by just python 'np' intead of the whole word 'numpy'. "
   ]
  },
  {
   "cell_type": "code",
   "execution_count": 19,
   "id": "424d9e0c",
   "metadata": {},
   "outputs": [],
   "source": [
    "import numpy as np"
   ]
  },
  {
   "attachments": {},
   "cell_type": "markdown",
   "id": "6a7a4f61",
   "metadata": {},
   "source": [
    "Next, lets say we measured three values : \n",
    "$$\n",
    "x_1 = 1.7 \\\\\n",
    "x_2 = 3.5 \\\\\n",
    "x_3 = 2.9\n",
    "$$\n",
    "and we want to store them in a single variable as and array (kinda like a list). "
   ]
  },
  {
   "cell_type": "code",
   "execution_count": 20,
   "id": "1fb21510",
   "metadata": {},
   "outputs": [
    {
     "name": "stdout",
     "output_type": "stream",
     "text": [
      "Our new array of x-values is : [1.7 3.5 2.9]\n"
     ]
    }
   ],
   "source": [
    "# define an array with out three x measurements\n",
    "x_values = np.array([1.7, 3.5, 2.9])\n",
    "print(\"Our new array of x-values is :\", x_values)"
   ]
  },
  {
   "attachments": {},
   "cell_type": "markdown",
   "id": "61a2258b",
   "metadata": {},
   "source": [
    "If we want to get the individual values back out, we call them based on their index (or their position in the array). Indexing in python starts at zero, so here $x_1$ would be the zeroth element of the array. To get $x_1$ out of our array, we would use x_values[0]. "
   ]
  },
  {
   "cell_type": "code",
   "execution_count": 21,
   "id": "a096186e",
   "metadata": {},
   "outputs": [
    {
     "name": "stdout",
     "output_type": "stream",
     "text": [
      "The values in our array are x_1 = 1.7 x_2 = 3.5 and x_3 = 2.9\n",
      "We can also print them directly from the array as x_1 = 1.7, x_2 = 3.5, and x_3 = 2.9\n"
     ]
    }
   ],
   "source": [
    "# access the individual x measurements from the x_values array\n",
    "x_1 = x_values[0]\n",
    "x_2 = x_values[1]\n",
    "x_3 = x_values[2]\n",
    "\n",
    "print(\"The values in our array are x_1 =\", x_1, \"x_2 =\", x_2, \"and x_3 =\", x_3)\n",
    "print(\"We can also print them directly from the array as x_1 = {}, x_2 = {}, and x_3 = {}\".format(x_values[0], x_values[1], x_values[2]))"
   ]
  },
  {
   "attachments": {},
   "cell_type": "markdown",
   "id": "1ebc1ebe",
   "metadata": {},
   "source": [
    "If we want to know how many values are in our array, we can use the python function `len()`. \n",
    "\n",
    "`len(array)` : returns the number of elements or values in the array."
   ]
  },
  {
   "cell_type": "code",
   "execution_count": 22,
   "id": "e158adb4",
   "metadata": {},
   "outputs": [
    {
     "name": "stdout",
     "output_type": "stream",
     "text": [
      "x_values has 3 vlaues\n"
     ]
    }
   ],
   "source": [
    "num_values = len(x_values)\n",
    "print(\"x_values has\", num_values, \"vlaues\")"
   ]
  },
  {
   "attachments": {},
   "cell_type": "markdown",
   "id": "0effb0b2",
   "metadata": {},
   "source": [
    "We can also change the values in the array. Let way we want to reset $x_2$ to 2.2. "
   ]
  },
  {
   "cell_type": "code",
   "execution_count": 23,
   "id": "4708030a",
   "metadata": {},
   "outputs": [
    {
     "name": "stdout",
     "output_type": "stream",
     "text": [
      "Modified x_2 value : [1.7 2.2 2.9]\n"
     ]
    }
   ],
   "source": [
    "# change element in the array\n",
    "x_values[1] = 2.2\n",
    "print(\"Modified x_2 value :\", x_values)"
   ]
  },
  {
   "attachments": {},
   "cell_type": "markdown",
   "id": "2febd3f6",
   "metadata": {},
   "source": [
    "We can also do arithmetic opperations to arrays, like adding, multiplication, division, and exponentiation. When we do these opporations with a single other number, it will do the operation to each element of the array. "
   ]
  },
  {
   "cell_type": "code",
   "execution_count": 24,
   "id": "556f6b99",
   "metadata": {},
   "outputs": [
    {
     "name": "stdout",
     "output_type": "stream",
     "text": [
      "We can add 3 to every element in the array : [4.7 5.2 5.9]\n",
      "We can multiply every element in the array by 3 : [5.1 6.6 8.7]\n"
     ]
    }
   ],
   "source": [
    "x_plus_3 = x_values + 3 \n",
    "print(\"We can add 3 to every element in the array :\", x_plus_3)\n",
    "\n",
    "x_times_3 = x_values * 3 \n",
    "print(\"We can multiply every element in the array by 3 :\", x_times_3)"
   ]
  },
  {
   "attachments": {},
   "cell_type": "markdown",
   "id": "0ba245ba",
   "metadata": {},
   "source": [
    "To take powers : \n",
    "\n",
    "`np.power(array, n)` : where you raise each value in the array to the power n (n is a number)\n",
    "\n",
    "(optional) Check out the documentation : https://numpy.org/doc/stable/reference/generated/numpy.power.html"
   ]
  },
  {
   "cell_type": "code",
   "execution_count": 25,
   "id": "7dc66501",
   "metadata": {},
   "outputs": [
    {
     "name": "stdout",
     "output_type": "stream",
     "text": [
      "We can add 3 to every element in the array : [2.89 4.84 8.41]\n"
     ]
    }
   ],
   "source": [
    "# use to np.power function to square elements of x_values\n",
    "x_squared = np.power(x_values, 2)\n",
    "print(\"We can add 3 to every element in the array :\", x_squared)"
   ]
  },
  {
   "attachments": {},
   "cell_type": "markdown",
   "id": "50cc5557",
   "metadata": {},
   "source": [
    "Try taking the square root now. You can either use the np.power function with a fractional exponent, or numpy as has a specifal function that takes the sqare roots of all the elements of an array (Hint: google \"Take square root of numpy array\")."
   ]
  },
  {
   "cell_type": "code",
   "execution_count": 26,
   "id": "58a56fe6",
   "metadata": {},
   "outputs": [
    {
     "ename": "SyntaxError",
     "evalue": "invalid syntax (1489145589.py, line 2)",
     "output_type": "error",
     "traceback": [
      "\u001b[0;36m  Cell \u001b[0;32mIn [26], line 2\u001b[0;36m\u001b[0m\n\u001b[0;31m    x_square_root =\u001b[0m\n\u001b[0m                    ^\u001b[0m\n\u001b[0;31mSyntaxError\u001b[0m\u001b[0;31m:\u001b[0m invalid syntax\n"
     ]
    }
   ],
   "source": [
    "# get the square root of the elements of x_values\n",
    "x_square_root = \n",
    "print(\"We can add 3 to every element in the array :\", x_square_root)"
   ]
  },
  {
   "attachments": {},
   "cell_type": "markdown",
   "id": "668d35f9",
   "metadata": {},
   "source": [
    "Numpy also has some other useful functions that allow us to get other properties of the array : \n",
    "\n",
    "`np.sum(array)` : returns the sum of the array\n",
    "\n",
    "`np.mean(array)` : returns the mean or average of the array\n",
    "\n",
    "`np.std(array)` : returns the standard deviation of the array\n",
    "\n",
    "`np.max(array)` : returns the maximum value stored in the array\n",
    "\n",
    "`np.min(array)` : returns the minimum value stored in the array"
   ]
  },
  {
   "attachments": {},
   "cell_type": "markdown",
   "id": "a42965e4",
   "metadata": {},
   "source": [
    "Inputting measurements into arrays is time consuming and can lead to mistakes if we are collecting several measurements. Starting in week 3, we will be using a spreadsheet module as well where we input out measurements into a spreadsheet and python will turn the columns into numpy arrays for us automatically. "
   ]
  },
  {
   "attachments": {},
   "cell_type": "markdown",
   "id": "26ccaa87",
   "metadata": {},
   "source": [
    "## Plotting in python "
   ]
  },
  {
   "attachments": {},
   "cell_type": "markdown",
   "id": "50569ba6",
   "metadata": {},
   "source": [
    "Data visualization is an important aspect of many scientific endevous. We will be using python to make plots or graphs of our data throughout this course. To make out plots, we will be using the module matplotlib.pyplot."
   ]
  },
  {
   "cell_type": "code",
   "execution_count": 27,
   "id": "b30bb764",
   "metadata": {},
   "outputs": [],
   "source": [
    "import matplotlib.pyplot as plt"
   ]
  },
  {
   "attachments": {},
   "cell_type": "markdown",
   "id": "90829b14",
   "metadata": {},
   "source": [
    "First lets start by trying to plot a linear function of the form $y = mx + b$.\n",
    "\n",
    "Let make this plot over the range $x \\in [-2, 4]$, with $m=2$ and $b=-3$. So first thing let's start by defining our varibles. "
   ]
  },
  {
   "cell_type": "code",
   "execution_count": null,
   "id": "6f587204",
   "metadata": {},
   "outputs": [],
   "source": [
    "# define plotting variables\n",
    "xmin = -2\n",
    "xmax = 4\n",
    "m = 2\n",
    "b = -3"
   ]
  },
  {
   "attachments": {},
   "cell_type": "markdown",
   "id": "b4fe6c1a",
   "metadata": {},
   "source": [
    "When we are plotting in python, we need to give the actual points or $(x, y)$ coordinates. We will start by making our x-coordinates. This will be a numpy array of values between `xmin` and `xmax`. To this, we will use the python function `np.linspace()`\n",
    "\n",
    "`np.linspace(start, stop, num=50)` : makes and array of evenly spaced values between start and stop. It has a default argument, num, which is the number of points created. You can specify num, or it will default to 50.\n",
    "\n",
    "Just to try things out, let's make 40 x values. \n",
    "\n",
    "(optional) Check out the documentation : https://numpy.org/doc/stable/reference/generated/numpy.linspace.html<br />\n",
    "(optional) Try googling other ways to automatically makes arrays of numbers, like `np.arange()`"
   ]
  },
  {
   "cell_type": "code",
   "execution_count": null,
   "id": "551f946e",
   "metadata": {},
   "outputs": [
    {
     "data": {
      "text/plain": [
       "array([-2.        , -1.84615385, -1.69230769, -1.53846154, -1.38461538,\n",
       "       -1.23076923, -1.07692308, -0.92307692, -0.76923077, -0.61538462,\n",
       "       -0.46153846, -0.30769231, -0.15384615,  0.        ,  0.15384615,\n",
       "        0.30769231,  0.46153846,  0.61538462,  0.76923077,  0.92307692,\n",
       "        1.07692308,  1.23076923,  1.38461538,  1.53846154,  1.69230769,\n",
       "        1.84615385,  2.        ,  2.15384615,  2.30769231,  2.46153846,\n",
       "        2.61538462,  2.76923077,  2.92307692,  3.07692308,  3.23076923,\n",
       "        3.38461538,  3.53846154,  3.69230769,  3.84615385,  4.        ])"
      ]
     },
     "execution_count": 73,
     "metadata": {},
     "output_type": "execute_result"
    }
   ],
   "source": [
    "# makes x values in our defined range\n",
    "x_points = np.linspace(xmin, xmax, num=40)\n",
    "x_points"
   ]
  },
  {
   "attachments": {},
   "cell_type": "markdown",
   "id": "31c4acad",
   "metadata": {},
   "source": [
    "Now that we've made our x values, we want to make our y values as a function of these x values, using our function $y = mx + b$. \n",
    "So for every value in `x_points`, we need to multiply it by m and add b. Thankfully, we can do this all at once with our arrays."
   ]
  },
  {
   "cell_type": "code",
   "execution_count": null,
   "id": "fff9b835",
   "metadata": {},
   "outputs": [
    {
     "data": {
      "text/plain": [
       "array([-7.        , -6.69230769, -6.38461538, -6.07692308, -5.76923077,\n",
       "       -5.46153846, -5.15384615, -4.84615385, -4.53846154, -4.23076923,\n",
       "       -3.92307692, -3.61538462, -3.30769231, -3.        , -2.69230769,\n",
       "       -2.38461538, -2.07692308, -1.76923077, -1.46153846, -1.15384615,\n",
       "       -0.84615385, -0.53846154, -0.23076923,  0.07692308,  0.38461538,\n",
       "        0.69230769,  1.        ,  1.30769231,  1.61538462,  1.92307692,\n",
       "        2.23076923,  2.53846154,  2.84615385,  3.15384615,  3.46153846,\n",
       "        3.76923077,  4.07692308,  4.38461538,  4.69230769,  5.        ])"
      ]
     },
     "execution_count": 74,
     "metadata": {},
     "output_type": "execute_result"
    }
   ],
   "source": [
    "# make the y values at each of our x values\n",
    "y_points = m*x_points + b\n",
    "y_points"
   ]
  },
  {
   "attachments": {},
   "cell_type": "markdown",
   "id": "78dcb487",
   "metadata": {},
   "source": [
    "Now that we have our two arrays to give us our points, we're ready to plot. To plot a line that connects the points, were going to use the python function plt.plot(). Let's start with just thre required arguments (or inputs) to our function, and we'll work towards making our plot more complete as we go.\n",
    "\n",
    "`plt.plot(x_array, y_array)` : creates a plot with a line connecting the points given in x_array and y_array. x_array and y_array must have the same length. "
   ]
  },
  {
   "cell_type": "code",
   "execution_count": null,
   "id": "9b26e2b0",
   "metadata": {},
   "outputs": [
    {
     "data": {
      "text/plain": [
       "[<matplotlib.lines.Line2D at 0x10fb81790>]"
      ]
     },
     "execution_count": 75,
     "metadata": {},
     "output_type": "execute_result"
    },
    {
     "data": {
      "image/png": "[encoded data removed]",
      "text/plain": [
       "<Figure size 640x480 with 1 Axes>"
      ]
     },
     "metadata": {},
     "output_type": "display_data"
    }
   ],
   "source": [
    "# plot linear function\n",
    "plt.plot(x_points, y_points)"
   ]
  },
  {
   "attachments": {},
   "cell_type": "markdown",
   "id": "ffae0c63",
   "metadata": {},
   "source": [
    "`plt.plot()` has many optional inputs such as color, marker, linestyle, linewidth, and markersize that can change how our plot look. Try playing around with some of these values in the plot below. \n",
    "\n",
    "(optional) Check out the documentation : https://matplotlib.org/stable/api/_as_gen/matplotlib.pyplot.plot.html"
   ]
  },
  {
   "cell_type": "code",
   "execution_count": null,
   "metadata": {},
   "outputs": [
    {
     "data": {
      "text/plain": [
       "[<matplotlib.lines.Line2D at 0x10fe53490>]"
      ]
     },
     "execution_count": 81,
     "metadata": {},
     "output_type": "execute_result"
    },
    {
     "data": {
      "image/png": "[encoded data removed]",
      "text/plain": [
       "<Figure size 640x480 with 1 Axes>"
      ]
     },
     "metadata": {},
     "output_type": "display_data"
    }
   ],
   "source": [
    "# plot linear function with additional parameters\n",
    "plt.plot(x_points, y_points, color='green', marker='o', linestyle='dashed', linewidth=2, markersize=3)"
   ]
  },
  {
   "attachments": {},
   "cell_type": "markdown",
   "id": "a958da11",
   "metadata": {},
   "source": [
    "When we are making plots of data, it's also important to have axis labels, a title, and legend. "
   ]
  },
  {
   "cell_type": "code",
   "execution_count": null,
   "id": "7363a97d",
   "metadata": {},
   "outputs": [
    {
     "data": {
      "image/png": "[encoded data removed]",
      "text/plain": [
       "<Figure size 640x480 with 1 Axes>"
      ]
     },
     "metadata": {},
     "output_type": "display_data"
    }
   ],
   "source": [
    "# plot linear function where data has a label for the legend\n",
    "plt.plot(x_points, y_points, label = \"Linear Function\")\n",
    "\n",
    "# add title to the plot \n",
    "plt.title(\"Our First Plot\")\n",
    "\n",
    "# add axis labels to the plot \n",
    "plt.xlabel(\"x values\")\n",
    "plt.ylabel(\"y values\")\n",
    "\n",
    "# add legend to the plot \n",
    "plt.legend()\n",
    "\n",
    "# displat the plot with all our added formatting\n",
    "plt.show()"
   ]
  },
  {
   "attachments": {},
   "cell_type": "markdown",
   "id": "c4a4dcd6",
   "metadata": {},
   "source": [
    "Congradualations on making your first plot! Later in this course we'll make different types of plots with data and models, but this is the basics of plotting in python. "
   ]
  },
  {
   "attachments": {},
   "cell_type": "markdown",
   "id": "487656c0",
   "metadata": {},
   "source": [
    "## Practice (optional)"
   ]
  },
  {
   "attachments": {},
   "cell_type": "markdown",
   "id": "bf64baf5",
   "metadata": {},
   "source": [
    "This is an exercise to get familiar with the python skills we have just learned. It is not marked, but as you go through try to keep up good commenting and formatting of your print statements. "
   ]
  },
  {
   "attachments": {},
   "cell_type": "markdown",
   "id": "3a1d93e2",
   "metadata": {},
   "source": [
    "Let's say we're interested in measureing the grvitational acceleration constant, $g$. So we set up an experiment where we drop a ball from a fixed hight, $h$, and measure the time it takes for the ball to fall, $t$. From out kinematics formulas, we know then that \n",
    "\n",
    "$$\n",
    "h = \\frac{1}{2} g t^2\n",
    "$$\n",
    "$$\n",
    "g = \\frac{2h}{t^2}\n",
    "$$\n",
    "\n",
    "We drop the ball from the roof, which is about 10m from the ground and measure 10 times (in seconds): 1.30, 1.51, 1.44, 1.44, 1.26, 1.41, 1.54, 1.44, 1.35, 1.49."
   ]
  },
  {
   "attachments": {},
   "cell_type": "markdown",
   "id": "2d6d0c81",
   "metadata": {},
   "source": [
    "First let's enter our times into a numpy array."
   ]
  },
  {
   "cell_type": "code",
   "execution_count": 49,
   "id": "2ed921e7",
   "metadata": {},
   "outputs": [
    {
     "name": "stdout",
     "output_type": "stream",
     "text": [
      "Check that times are correct:  []\n"
     ]
    }
   ],
   "source": [
    "time_array = np.array([])\n",
    "print(\"Check that times are correct: \", time_array)"
   ]
  },
  {
   "attachments": {},
   "cell_type": "markdown",
   "id": "5893ed29",
   "metadata": {},
   "source": [
    "Next, gets calculate g for all our times."
   ]
  },
  {
   "cell_type": "code",
   "execution_count": 50,
   "id": "0fbcfbdb",
   "metadata": {},
   "outputs": [
    {
     "ename": "SyntaxError",
     "evalue": "invalid syntax (1317719462.py, line 1)",
     "output_type": "error",
     "traceback": [
      "\u001b[0;36m  Cell \u001b[0;32mIn [50], line 1\u001b[0;36m\u001b[0m\n\u001b[0;31m    g_array =\u001b[0m\n\u001b[0m              ^\u001b[0m\n\u001b[0;31mSyntaxError\u001b[0m\u001b[0;31m:\u001b[0m invalid syntax\n"
     ]
    }
   ],
   "source": [
    "g_array = \n",
    "print(\"Check that g values are reasonable: \", g_array) "
   ]
  },
  {
   "attachments": {},
   "cell_type": "markdown",
   "id": "5c427b13",
   "metadata": {},
   "source": [
    "Now that we've calculated g for all our values, let find some properties about our data. We now want to calculate the mean and standard deviation of g. "
   ]
  },
  {
   "cell_type": "code",
   "execution_count": null,
   "id": "7251287a",
   "metadata": {},
   "outputs": [],
   "source": [
    "# \n",
    "g_mean = \n",
    "g_std = \n",
    "print()"
   ]
  },
  {
   "attachments": {},
   "cell_type": "markdown",
   "id": "1924a855",
   "metadata": {},
   "source": [
    "Now we try measureing the positions of the ball at different times for a single drop of the ball. \n",
    "\n",
    "| time (s) | position (m) |\n",
    "|----------|--------------|\n",
    "| 0        | 10.0         |\n",
    "| 0.2      | 9.8          |\n",
    "| 0.4      | 9.6          |\n",
    "| 0.6      | 8.2          |\n",
    "| 0.8      | 6.9          |\n",
    "| 1.0      | 4.9          |\n",
    "| 1.2      | 2.8          |\n",
    "| 1.4      | 0.8          |\n",
    "\n",
    "Let's start by making an array for the times and one for the positions. "
   ]
  },
  {
   "cell_type": "code",
   "execution_count": 57,
   "id": "e21746e3",
   "metadata": {},
   "outputs": [
    {
     "ename": "SyntaxError",
     "evalue": "invalid syntax (2068077592.py, line 1)",
     "output_type": "error",
     "traceback": [
      "\u001b[0;36m  Cell \u001b[0;32mIn [57], line 1\u001b[0;36m\u001b[0m\n\u001b[0;31m    time_array =\u001b[0m\n\u001b[0m                 ^\u001b[0m\n\u001b[0;31mSyntaxError\u001b[0m\u001b[0;31m:\u001b[0m invalid syntax\n"
     ]
    }
   ],
   "source": [
    "#\n",
    "time_array = \n",
    "position_array = "
   ]
  },
  {
   "attachments": {},
   "cell_type": "markdown",
   "id": "8bb2c5f0",
   "metadata": {},
   "source": [
    "Now let's try plotting our data from above, where our x-axis is time and our y-axis is position. Because we have data points now, we want to just plot the points in a scatter plot. To do this we want to chage the 'marker'. If you're not sure how to do this, try googling 'how to change marker to dot with plt.plot'."
   ]
  },
  {
   "cell_type": "code",
   "execution_count": null,
   "id": "bd7abae6",
   "metadata": {},
   "outputs": [],
   "source": [
    "# plot data points\n",
    "plt.plot(x, y, label = , marker = )\n",
    "\n",
    "# add title to the plot \n",
    "plt.title()\n",
    "\n",
    "# add axis labels to the plot \n",
    "plt.xlabel()\n",
    "plt.ylabel()\n",
    "\n",
    "# add legend to the plot \n",
    "plt.legend()\n",
    "\n",
    "# displat the plot with all our added formatting\n",
    "plt.show()"
   ]
  },
  {
   "attachments": {},
   "cell_type": "markdown",
   "id": "d4e5a530",
   "metadata": {},
   "source": [
    "Now let's try plotting our kinematic model over our points. Our kinematic model is given by,\n",
    "$$\n",
    "x = h - \\frac{1}{2}gt^2\n",
    "$$\n",
    "The value we often use for the gravitational acceleration constant is $g=9.81m/s^2$. \n",
    "Let's walk through calculating our model for plotting along side our data. "
   ]
  },
  {
   "attachments": {},
   "cell_type": "markdown",
   "id": "617f2f57",
   "metadata": {},
   "source": [
    "First, we need to get the range over which we want to plot. That means finding `t_min` and `t_max`. Recall, to access elements of an array, we can use `array[index]`, where index is the number of the position we want to get. To get the first element of the array, our inde would be zero. To get the last element of the array, our index would be 9 (or -1). "
   ]
  },
  {
   "cell_type": "code",
   "execution_count": 58,
   "id": "a02b65ae",
   "metadata": {},
   "outputs": [
    {
     "ename": "SyntaxError",
     "evalue": "invalid syntax (3013010632.py, line 1)",
     "output_type": "error",
     "traceback": [
      "\u001b[0;36m  Cell \u001b[0;32mIn [58], line 1\u001b[0;36m\u001b[0m\n\u001b[0;31m    t_min =\u001b[0m\n\u001b[0m            ^\u001b[0m\n\u001b[0;31mSyntaxError\u001b[0m\u001b[0;31m:\u001b[0m invalid syntax\n"
     ]
    }
   ],
   "source": [
    "t_min = \n",
    "t_max = "
   ]
  },
  {
   "attachments": {},
   "cell_type": "markdown",
   "id": "32165e02",
   "metadata": {},
   "source": [
    "Now let makes out `times_model` values. We want to make an array of values from `t_min` to `t_max`, with 50 values. "
   ]
  },
  {
   "cell_type": "code",
   "execution_count": null,
   "id": "75825849",
   "metadata": {},
   "outputs": [],
   "source": [
    "times_model = "
   ]
  },
  {
   "attachments": {},
   "cell_type": "markdown",
   "id": "0f56ceea",
   "metadata": {},
   "source": [
    "Now that we have our times, we need to get the positions using the formula above. Recall, when we add or multiple a single value with an array, it will do those operations to all the values in the array. "
   ]
  },
  {
   "cell_type": "code",
   "execution_count": null,
   "id": "6ae10b63",
   "metadata": {},
   "outputs": [],
   "source": [
    "positions_model = "
   ]
  },
  {
   "attachments": {},
   "cell_type": "markdown",
   "id": "2fbca965",
   "metadata": {},
   "source": [
    "We are now ready for plotting. The plotting is the same as before, except now we need to plot two sets of points on our plot. "
   ]
  },
  {
   "cell_type": "code",
   "execution_count": null,
   "id": "deb029f3",
   "metadata": {},
   "outputs": [],
   "source": [
    "# plot data points\n",
    "plt.plot(x, y, label = , marker = )\n",
    "# plot model\n",
    "plt.plot(x, y, label = , linestyle = )\n",
    "\n",
    "# add title to the plot \n",
    "plt.title()\n",
    "\n",
    "# add axis labels to the plot \n",
    "plt.xlabel()\n",
    "plt.ylabel()\n",
    "\n",
    "# add legend to the plot \n",
    "plt.legend()\n",
    "\n",
    "# displat the plot with all our added formatting\n",
    "plt.show()"
   ]
  },
  {
   "attachments": {},
   "cell_type": "markdown",
   "id": "e0194423-9470-402b-b104-1b75e8c9ee41",
   "metadata": {
    "tags": []
   },
   "source": [
    "## Downloads & Setup\n",
    "\n",
    "We're almost done for today, just a couple more tasks to take care of.\n",
    "\n",
    "First: there are some features we need to configure within your UBC Jupyter account. Executing the code cell below will take of this.\n",
    "\n",
    "You only need to execute the next cell once. It won't cause any problems if you repeat it though.\n",
    "\n",
    "- Click on the next cell\n",
    "- Execute it with Shift+Enter\n",
    "- Look at the output section below. In the first few lines you should see 'Installation complete' to indicate that data_entry was successfully installed.\n",
    "- At the very bottom of the output there should be a line that reports that ipysheet and jupyter-archive were successfully installed.\n",
    "- If both tasks were performed successfully, add # signs in front of the last three lines in the cell below so that they won't ever be executed again.\n",
    "\n",
    "\n"
   ]
  },
  {
   "cell_type": "code",
   "execution_count": null,
   "id": "ff6b33e8-a530-421a-bd60-5ef4fe786bfa",
   "metadata": {
    "tags": []
   },
   "outputs": [
    {
     "name": "stdout",
     "output_type": "stream",
     "text": [
      "Self installer for: data_entry.py\n",
      "/Users/samconnolly/Documents/GitHub/2023s-instructor/Lab00/data_entry.py  will be moved to: /Users/samconnolly/.local/lib/python3.8/site-packages so that it can be imported.\n",
      "Installation complete\n",
      "Collecting ipydatagrid\n",
      "  Downloading ipydatagrid-1.1.15-py3-none-any.whl (1.2 MB)\n",
      "\u001b[2K     \u001b[90m━━━━━━━━━━━━━━━━━━━━━━━━━━━━━━━━━━━━━━━━\u001b[0m \u001b[32m1.2/1.2 MB\u001b[0m \u001b[31m9.3 MB/s\u001b[0m eta \u001b[36m0:00:00\u001b[0ma \u001b[36m0:00:01\u001b[0m\n",
      "\u001b[?25hCollecting bqplot>=0.11.6\n",
      "  Downloading bqplot-0.12.39-py2.py3-none-any.whl (1.2 MB)\n",
      "\u001b[2K     \u001b[90m━━━━━━━━━━━━━━━━━━━━━━━━━━━━━━━━━━━━━━━━\u001b[0m \u001b[32m1.2/1.2 MB\u001b[0m \u001b[31m30.6 MB/s\u001b[0m eta \u001b[36m0:00:00\u001b[0m00:01\u001b[0m\n",
      "\u001b[?25hRequirement already satisfied: ipywidgets<9,>=7.6.0 in /Users/samconnolly/miniconda3/envs/jupyter-3.8/lib/python3.8/site-packages (from ipydatagrid) (8.0.4)\n",
      "Collecting py2vega>=0.5.0\n",
      "  Downloading py2vega-0.6.1-py3-none-any.whl (16 kB)\n",
      "Requirement already satisfied: pandas in /Users/samconnolly/miniconda3/envs/jupyter-3.8/lib/python3.8/site-packages (from ipydatagrid) (1.5.3)\n",
      "Collecting traittypes>=0.0.6\n",
      "  Downloading traittypes-0.2.1-py2.py3-none-any.whl (8.6 kB)\n",
      "Requirement already satisfied: numpy<2.0.0,>=1.10.4 in /Users/samconnolly/miniconda3/envs/jupyter-3.8/lib/python3.8/site-packages (from bqplot>=0.11.6->ipydatagrid) (1.23.2)\n",
      "Requirement already satisfied: traitlets>=4.3.0 in /Users/samconnolly/miniconda3/envs/jupyter-3.8/lib/python3.8/site-packages (from bqplot>=0.11.6->ipydatagrid) (5.4.0)\n",
      "Requirement already satisfied: jupyterlab-widgets~=3.0 in /Users/samconnolly/miniconda3/envs/jupyter-3.8/lib/python3.8/site-packages (from ipywidgets<9,>=7.6.0->ipydatagrid) (3.0.5)\n",
      "Requirement already satisfied: ipython>=6.1.0 in /Users/samconnolly/miniconda3/envs/jupyter-3.8/lib/python3.8/site-packages (from ipywidgets<9,>=7.6.0->ipydatagrid) (8.5.0)\n",
      "Requirement already satisfied: widgetsnbextension~=4.0 in /Users/samconnolly/miniconda3/envs/jupyter-3.8/lib/python3.8/site-packages (from ipywidgets<9,>=7.6.0->ipydatagrid) (4.0.5)\n",
      "Requirement already satisfied: ipykernel>=4.5.1 in /Users/samconnolly/miniconda3/envs/jupyter-3.8/lib/python3.8/site-packages (from ipywidgets<9,>=7.6.0->ipydatagrid) (6.15.3)\n",
      "Requirement already satisfied: python-dateutil>=2.8.1 in /Users/samconnolly/miniconda3/envs/jupyter-3.8/lib/python3.8/site-packages (from pandas->ipydatagrid) (2.8.2)\n",
      "Requirement already satisfied: pytz>=2020.1 in /Users/samconnolly/miniconda3/envs/jupyter-3.8/lib/python3.8/site-packages (from pandas->ipydatagrid) (2022.4)\n",
      "Collecting gast<0.5,>=0.4.0\n",
      "  Downloading gast-0.4.0-py3-none-any.whl (9.8 kB)\n",
      "Requirement already satisfied: tornado>=6.1 in /Users/samconnolly/miniconda3/envs/jupyter-3.8/lib/python3.8/site-packages (from ipykernel>=4.5.1->ipywidgets<9,>=7.6.0->ipydatagrid) (6.2)\n",
      "Requirement already satisfied: debugpy>=1.0 in /Users/samconnolly/miniconda3/envs/jupyter-3.8/lib/python3.8/site-packages (from ipykernel>=4.5.1->ipywidgets<9,>=7.6.0->ipydatagrid) (1.6.3)\n",
      "Requirement already satisfied: appnope in /Users/samconnolly/miniconda3/envs/jupyter-3.8/lib/python3.8/site-packages (from ipykernel>=4.5.1->ipywidgets<9,>=7.6.0->ipydatagrid) (0.1.3)\n",
      "Requirement already satisfied: jupyter-client>=6.1.12 in /Users/samconnolly/miniconda3/envs/jupyter-3.8/lib/python3.8/site-packages (from ipykernel>=4.5.1->ipywidgets<9,>=7.6.0->ipydatagrid) (7.3.5)\n",
      "Requirement already satisfied: nest-asyncio in /Users/samconnolly/miniconda3/envs/jupyter-3.8/lib/python3.8/site-packages (from ipykernel>=4.5.1->ipywidgets<9,>=7.6.0->ipydatagrid) (1.5.5)\n",
      "Requirement already satisfied: pyzmq>=17 in /Users/samconnolly/miniconda3/envs/jupyter-3.8/lib/python3.8/site-packages (from ipykernel>=4.5.1->ipywidgets<9,>=7.6.0->ipydatagrid) (25.0.0)\n",
      "Requirement already satisfied: matplotlib-inline>=0.1 in /Users/samconnolly/miniconda3/envs/jupyter-3.8/lib/python3.8/site-packages (from ipykernel>=4.5.1->ipywidgets<9,>=7.6.0->ipydatagrid) (0.1.6)\n",
      "Requirement already satisfied: psutil in /Users/samconnolly/miniconda3/envs/jupyter-3.8/lib/python3.8/site-packages (from ipykernel>=4.5.1->ipywidgets<9,>=7.6.0->ipydatagrid) (5.9.2)\n",
      "Requirement already satisfied: packaging in /Users/samconnolly/miniconda3/envs/jupyter-3.8/lib/python3.8/site-packages (from ipykernel>=4.5.1->ipywidgets<9,>=7.6.0->ipydatagrid) (21.3)\n",
      "Requirement already satisfied: pygments>=2.4.0 in /Users/samconnolly/miniconda3/envs/jupyter-3.8/lib/python3.8/site-packages (from ipython>=6.1.0->ipywidgets<9,>=7.6.0->ipydatagrid) (2.13.0)\n",
      "Requirement already satisfied: decorator in /Users/samconnolly/miniconda3/envs/jupyter-3.8/lib/python3.8/site-packages (from ipython>=6.1.0->ipywidgets<9,>=7.6.0->ipydatagrid) (5.1.1)\n",
      "Requirement already satisfied: stack-data in /Users/samconnolly/miniconda3/envs/jupyter-3.8/lib/python3.8/site-packages (from ipython>=6.1.0->ipywidgets<9,>=7.6.0->ipydatagrid) (0.5.0)\n",
      "Requirement already satisfied: jedi>=0.16 in /Users/samconnolly/miniconda3/envs/jupyter-3.8/lib/python3.8/site-packages (from ipython>=6.1.0->ipywidgets<9,>=7.6.0->ipydatagrid) (0.18.1)\n",
      "Requirement already satisfied: pickleshare in /Users/samconnolly/miniconda3/envs/jupyter-3.8/lib/python3.8/site-packages (from ipython>=6.1.0->ipywidgets<9,>=7.6.0->ipydatagrid) (0.7.5)\n",
      "Requirement already satisfied: prompt-toolkit<3.1.0,>3.0.1 in /Users/samconnolly/miniconda3/envs/jupyter-3.8/lib/python3.8/site-packages (from ipython>=6.1.0->ipywidgets<9,>=7.6.0->ipydatagrid) (3.0.38)\n",
      "Requirement already satisfied: pexpect>4.3 in /Users/samconnolly/miniconda3/envs/jupyter-3.8/lib/python3.8/site-packages (from ipython>=6.1.0->ipywidgets<9,>=7.6.0->ipydatagrid) (4.8.0)\n",
      "Requirement already satisfied: backcall in /Users/samconnolly/miniconda3/envs/jupyter-3.8/lib/python3.8/site-packages (from ipython>=6.1.0->ipywidgets<9,>=7.6.0->ipydatagrid) (0.2.0)\n",
      "Requirement already satisfied: six>=1.5 in /Users/samconnolly/miniconda3/envs/jupyter-3.8/lib/python3.8/site-packages (from python-dateutil>=2.8.1->pandas->ipydatagrid) (1.16.0)\n",
      "Requirement already satisfied: parso<0.9.0,>=0.8.0 in /Users/samconnolly/miniconda3/envs/jupyter-3.8/lib/python3.8/site-packages (from jedi>=0.16->ipython>=6.1.0->ipywidgets<9,>=7.6.0->ipydatagrid) (0.8.3)\n",
      "Requirement already satisfied: entrypoints in /Users/samconnolly/miniconda3/envs/jupyter-3.8/lib/python3.8/site-packages (from jupyter-client>=6.1.12->ipykernel>=4.5.1->ipywidgets<9,>=7.6.0->ipydatagrid) (0.4)\n",
      "Requirement already satisfied: jupyter-core>=4.9.2 in /Users/samconnolly/miniconda3/envs/jupyter-3.8/lib/python3.8/site-packages (from jupyter-client>=6.1.12->ipykernel>=4.5.1->ipywidgets<9,>=7.6.0->ipydatagrid) (4.12.0)\n",
      "Requirement already satisfied: ptyprocess>=0.5 in /Users/samconnolly/miniconda3/envs/jupyter-3.8/lib/python3.8/site-packages (from pexpect>4.3->ipython>=6.1.0->ipywidgets<9,>=7.6.0->ipydatagrid) (0.7.0)\n",
      "Requirement already satisfied: wcwidth in /Users/samconnolly/miniconda3/envs/jupyter-3.8/lib/python3.8/site-packages (from prompt-toolkit<3.1.0,>3.0.1->ipython>=6.1.0->ipywidgets<9,>=7.6.0->ipydatagrid) (0.2.5)\n",
      "Requirement already satisfied: pyparsing!=3.0.5,>=2.0.2 in /Users/samconnolly/miniconda3/envs/jupyter-3.8/lib/python3.8/site-packages (from packaging->ipykernel>=4.5.1->ipywidgets<9,>=7.6.0->ipydatagrid) (3.0.9)\n",
      "Requirement already satisfied: pure-eval in /Users/samconnolly/miniconda3/envs/jupyter-3.8/lib/python3.8/site-packages (from stack-data->ipython>=6.1.0->ipywidgets<9,>=7.6.0->ipydatagrid) (0.2.2)\n",
      "Requirement already satisfied: executing in /Users/samconnolly/miniconda3/envs/jupyter-3.8/lib/python3.8/site-packages (from stack-data->ipython>=6.1.0->ipywidgets<9,>=7.6.0->ipydatagrid) (1.0.0)\n",
      "Requirement already satisfied: asttokens in /Users/samconnolly/miniconda3/envs/jupyter-3.8/lib/python3.8/site-packages (from stack-data->ipython>=6.1.0->ipywidgets<9,>=7.6.0->ipydatagrid) (2.0.8)\n",
      "Installing collected packages: traittypes, gast, py2vega, bqplot, ipydatagrid\n",
      "Successfully installed bqplot-0.12.39 gast-0.4.0 ipydatagrid-1.1.15 py2vega-0.6.1 traittypes-0.2.1\n"
     ]
    }
   ],
   "source": [
    "# Execute this cell to 1) install a module we will use for entering data in a \n",
    "# spreadsheet-like interface in later labs, and 2) install two extensions to the Jupyter \n",
    "# environment. One extension, ipysheet is used by the data entry module.\n",
    "# The other, jupyter-archive, allows you to download folders as .zip files.\n",
    "\n",
    "!wget -N --quiet https://www.phas.ubc.ca/~michal/data_entry.py # download data_entry.py\n",
    "%run data_entry.py  # install it.\n",
    "!pip install --user ipydatagrid # install jupyter extensions."
   ]
  },
  {
   "attachments": {},
   "cell_type": "markdown",
   "id": "17adda27-1425-44df-979c-72022a790ca4",
   "metadata": {
    "tags": []
   },
   "source": [
    "## End of Lab - Rerunning your notebook and Submitting"
   ]
  },
  {
   "attachments": {},
   "cell_type": "markdown",
   "id": "65f356bf-f2c1-45da-97a9-8fa7ae9074ad",
   "metadata": {},
   "source": [
    "At the end of lab, before submitting your work, we will ask you to restart + rerun your entire notebook to make sure that everything runs correctly and without error. Let's practice how to do that here! \n",
    "\n",
    "- First, go to the very top bar in Jupyter lab (with File, Edit, View...) and then click \"Kernel\". From the dropdown menu, select \"Restart Kernel and Run All Cells\". It will take a few seconds for the entire notebook to execute.\n",
    "\n",
    "- You should look through the whole notebook and make sure it looks right. If the entire notebook runs without errors, fantastic! You're then ready to submit your work. If there are errors, see if there is something obvious you can fix. If you need help figuring out what's wrong, ask us!\n",
    "\n",
    "This notebook is in your private Jupyter account. To submit notebooks for marking, you'll need to download it, and submit to Canvas.\n",
    "\n",
    "- After you've executed and checked your notebook, choose: File->Save_and_Export_Notebook_As->HTML This will download an HTML version of your notebook to your local computer. This version can not be executed or modified. You may have to disable a pop-up blocker to allow the file to be downloaded.\n",
    "\n",
    "- Finally: submit the html file that you just downloaded to the Lab00 submission assignment on Canvas. \n",
    "\n",
    "If there was anything in this notebook that you didn't understand or aren't comfortable with, now is a great time to talk to your table-mates about it or to ask the course staff."
   ]
  },
  {
   "attachments": {},
   "cell_type": "markdown",
   "id": "28d9a020-aa4c-4cb1-987b-82d62e00f70a",
   "metadata": {},
   "source": [
    "# Done\n",
    "\n",
    "We'll see you next week!"
   ]
  }
 ],
 "metadata": {
  "kernelspec": {
   "display_name": "Python 3 (ipykernel)",
   "language": "python",
   "name": "python3"
  },
  "language_info": {
   "codemirror_mode": {
    "name": "ipython",
    "version": 3
   },
   "file_extension": ".py",
   "mimetype": "text/x-python",
   "name": "python",
   "nbconvert_exporter": "python",
   "pygments_lexer": "ipython3",
   "version": "3.8.13"
  }
 },
 "nbformat": 4,
 "nbformat_minor": 5
}
