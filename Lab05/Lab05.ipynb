{
 "cells": [
  {
   "attachments": {},
   "cell_type": "markdown",
   "id": "61ed9912-a3b5-4024-b62b-49c912b1aa25",
   "metadata": {
    "id": "61ed9912-a3b5-4024-b62b-49c912b1aa25"
   },
   "source": [
    "# Lab 05 - Ohm's Law"
   ]
  },
  {
   "attachments": {},
   "cell_type": "markdown",
   "id": "355521ea-d050-45f2-93d5-988f72f018a2",
   "metadata": {
    "id": "355521ea-d050-45f2-93d5-988f72f018a2"
   },
   "source": [
    "<a href=\"https://docs.google.com/document/d/e/2PACX-1vS1YlEHPblhxj_FnWnNCX9ks4SsITKcmXaszvrFaoVSaR2Px3BqzuWyu577bgzb3XKnhbdPjp6qEbLF/pub\n",
    "\">Lab Instructions<a>\n",
    "\n",
    "\n",
    "Edit this cell and provide the information requested:\n",
    "\n",
    "- Your name:\n",
    "- Your student number:\n",
    "- Partner's name:"
   ]
  },
  {
   "cell_type": "code",
   "execution_count": 1,
   "id": "b795858f-a049-496e-a9bb-8128e61d49c3",
   "metadata": {
    "id": "b795858f-a049-496e-a9bb-8128e61d49c3"
   },
   "outputs": [],
   "source": [
    "import numpy as np\n",
    "import data_entry2\n",
    "import matplotlib.pyplot as plt"
   ]
  },
  {
   "attachments": {},
   "cell_type": "markdown",
   "id": "97644611-7359-4ded-8178-53a09dd70abb",
   "metadata": {
    "id": "97644611-7359-4ded-8178-53a09dd70abb"
   },
   "source": [
    "## Part A - Grading feedback, overview of the day"
   ]
  },
  {
   "attachments": {},
   "cell_type": "markdown",
   "id": "b5ad0fdd-d597-43e5-8f41-7473c348a560",
   "metadata": {
    "id": "b5ad0fdd-d597-43e5-8f41-7473c348a560"
   },
   "source": [
    "***After reviewing and hearing feedback from the last lab, write some notes below about what you learned/what you could improve for this week.***"
   ]
  },
  {
   "attachments": {},
   "cell_type": "markdown",
   "id": "f8ab58f4-f2bf-4517-a32e-e8626a910a48",
   "metadata": {
    "id": "f8ab58f4-f2bf-4517-a32e-e8626a910a48"
   },
   "source": []
  },
  {
   "attachments": {},
   "cell_type": "markdown",
   "id": "cce406b4-a6d8-4783-b05f-e1265070ed8e",
   "metadata": {},
   "source": [
    "## Class Discussion: Residuals"
   ]
  },
  {
   "attachments": {},
   "cell_type": "markdown",
   "id": "00565bf7-0be3-4088-922a-5d4c8bab572d",
   "metadata": {},
   "source": [
    "**In the cell below, summarize from the class discussion how residuals are useful, and what properties of a residuals graph inform us about the quality of a fit of a model to data.**"
   ]
  },
  {
   "attachments": {},
   "cell_type": "markdown",
   "id": "6d00f9c8-15c4-4754-be16-e211a5af4a5d",
   "metadata": {},
   "source": []
  },
  {
   "attachments": {},
   "cell_type": "markdown",
   "id": "2921ad5c-8305-4d1e-996d-03d62735438c",
   "metadata": {
    "id": "2921ad5c-8305-4d1e-996d-03d62735438c"
   },
   "source": [
    "## Part B - Familiarize, Part 1 (Build your circuit)"
   ]
  },
  {
   "attachments": {},
   "cell_type": "markdown",
   "id": "a94f87ad-829c-4566-b2e7-92ad2dafe042",
   "metadata": {
    "id": "a94f87ad-829c-4566-b2e7-92ad2dafe042"
   },
   "source": [
    "***In the cell below, write any notes from the class discussion on Ohm's law, multimeters, and anything else useful for building the circuit. Record the experimental goal.***"
   ]
  },
  {
   "attachments": {},
   "cell_type": "markdown",
   "id": "e6ae7d17-4c81-4eda-82f6-29b223f7d9b0",
   "metadata": {
    "id": "e6ae7d17-4c81-4eda-82f6-29b223f7d9b0"
   },
   "source": []
  },
  {
   "attachments": {},
   "cell_type": "markdown",
   "id": "f2f0940c-266b-429c-bf4f-93ee502dd067",
   "metadata": {
    "id": "f2f0940c-266b-429c-bf4f-93ee502dd067"
   },
   "source": [
    "## Part C - Familiarize, Part 2 (Explore the Equipment and Develop a Measurement Strategy)"
   ]
  },
  {
   "attachments": {},
   "cell_type": "markdown",
   "id": "36361425-9e9c-46fc-85ec-97d880f53ca2",
   "metadata": {
    "id": "36361425-9e9c-46fc-85ec-97d880f53ca2"
   },
   "source": [
    "***Explore the circuit’s operation and make some notes in your notebook. Some questions you might consider are:***\n",
    "- ***There are knobs on the power supply labelled “Voltage” and “Current”. What do these knobs do?***\n",
    "- ***What range should you use for the voltage and current meters? Why? Choose one \"best\" range for each meter to stick for all of your data collection today.***\n",
    "- ***What will the uncertainties in your voltage and current measurements be? Make sure you include an example calculation***"
   ]
  },
  {
   "attachments": {},
   "cell_type": "markdown",
   "id": "2a6f92f4-5251-46ff-9ff4-f0da300d35aa",
   "metadata": {
    "id": "2a6f92f4-5251-46ff-9ff4-f0da300d35aa"
   },
   "source": []
  },
  {
   "attachments": {},
   "cell_type": "markdown",
   "id": "1d593d35-14aa-4543-9107-77488aa1c0d9",
   "metadata": {
    "id": "1d593d35-14aa-4543-9107-77488aa1c0d9"
   },
   "source": [
    "## Part D - Measure and Analyze (Collect Data and Make a Scatter Plot)"
   ]
  },
  {
   "cell_type": "code",
   "execution_count": null,
   "id": "1f977bad-af13-4b9d-8787-9377d261725f",
   "metadata": {
    "colab": {
     "referenced_widgets": [
      "cadbae5e287a41a7a6481c21fe362640"
     ]
    },
    "id": "1f977bad-af13-4b9d-8787-9377d261725f",
    "outputId": "3501ebc8-7925-4118-ee46-2591e8d85f79"
   },
   "outputs": [],
   "source": []
  },
  {
   "cell_type": "code",
   "execution_count": null,
   "id": "3bef3e30-4540-4332-8573-ed9079e4c84b",
   "metadata": {},
   "outputs": [],
   "source": []
  },
  {
   "attachments": {},
   "cell_type": "markdown",
   "id": "e011d06e-afc2-490c-9940-bd66e3ac8f11",
   "metadata": {
    "id": "9433b047-f5d8-404b-9217-284c0d6645ab"
   },
   "source": [
    "## Part E - IMPROVE, COMPARE, SUMMARIZE, REFLECT"
   ]
  },
  {
   "attachments": {},
   "cell_type": "markdown",
   "id": "d7b62755-c1f4-45fa-98e8-ebdd1bce45b6",
   "metadata": {},
   "source": [
    "- ***Does the Ohm’s law model describe your data?***\n",
    "- ***Does the resistance you found match the expected resistance (1300 $\\Omega\\pm$ 1%). What tool can you use to quantitatively compare them?***\n",
    "- ***Make a comparison with at least one other group. Does your resistance match their resistance (how do we make quantitative comparisons between two values in this course?)***\n"
   ]
  },
  {
   "attachments": {},
   "cell_type": "markdown",
   "id": "c60efcf5-ee32-49e1-8b01-dbf9e70e9484",
   "metadata": {},
   "source": []
  },
  {
   "attachments": {},
   "cell_type": "markdown",
   "id": "5a7d84ec-e02f-4eae-84d4-0d4042471ffa",
   "metadata": {},
   "source": [
    "## Part F - IMPROVE, COMPARE, SUMMARIZE, REFLECT"
   ]
  },
  {
   "attachments": {},
   "cell_type": "markdown",
   "id": "dbfc9e34-7705-41d9-81bb-6e89bf700a6b",
   "metadata": {},
   "source": []
  },
  {
   "attachments": {},
   "cell_type": "markdown",
   "id": "e43b002e-5def-40bf-bb93-cf01abfe2abf",
   "metadata": {},
   "source": [
    "## Part G - Completing the Lab"
   ]
  },
  {
   "attachments": {},
   "cell_type": "markdown",
   "id": "13657467-93fa-4ab6-98ed-0f5ad84d2840",
   "metadata": {},
   "source": [
    "***Tips:***\n",
    "- ***A brief summary of how your key results and the results of your analysis and comparisons evolved throughout the lab.***\n",
    "- ***Make sure you state your slope and resistance following the significant figure rules.***\n",
    "- ***1-2 sentences to describe and justify your major improvements and how they proved to be successful or unsuccessful (if performed). It may be helpful to use relative uncertainty to quantify your argument.***\n",
    "- ***1-2 sentences addressing the experimental goal and describing the conclusions you can make from the results of your comparisons.***\n",
    "- ***1 sentence containing your thoughts for further investigation. If you were to spend more time with this experiment, what would you plan to do next?***"
   ]
  },
  {
   "attachments": {},
   "cell_type": "markdown",
   "id": "6364da8b-3bbf-48d9-bc7c-044999cb710d",
   "metadata": {},
   "source": []
  },
  {
   "attachments": {},
   "cell_type": "markdown",
   "id": "572097fe-b644-4e8d-bb60-dae28ee2acc6",
   "metadata": {},
   "source": [
    "# Submit\n",
    "\n",
    "Steps for submission:\n",
    "\n",
    "1. Run the cell below with `%reset -f`, which will clear any stored variables\n",
    "2. Comment out (put a # before) the line with `%reset -f`\n",
    "3. Click: Run => Run_All_Cells\n",
    "4. Read through the notebook to ensure all the cells executed correctly and without error.\n",
    "5. File => Save_and_Export_Notebook_As->HTML\n",
    "6. Upload the HTML document to the lab submission assignment on Canvas."
   ]
  },
  {
   "cell_type": "code",
   "execution_count": null,
   "id": "92974ea8",
   "metadata": {},
   "outputs": [],
   "source": [
    "%reset -f \n",
    "# Clear all variables, start with a clean environment.\n",
    "# comment out this line after you run it before you run all cells"
   ]
  },
  {
   "cell_type": "code",
   "execution_count": null,
   "id": "3114c562-85b9-4ba5-be34-a6c15cc9ebad",
   "metadata": {},
   "outputs": [],
   "source": [
    "display_sheets()"
   ]
  }
 ],
 "metadata": {
  "colab": {
   "collapsed_sections": [],
   "name": "lab05_TAversion.ipynb",
   "provenance": []
  },
  "kernelspec": {
   "display_name": "Python 3",
   "language": "python",
   "name": "python3"
  },
  "language_info": {
   "codemirror_mode": {
    "name": "ipython",
    "version": 3
   },
   "file_extension": ".py",
   "mimetype": "text/x-python",
   "name": "python",
   "nbconvert_exporter": "python",
   "pygments_lexer": "ipython3",
   "version": "3.8.8"
  }
 },
 "nbformat": 4,
 "nbformat_minor": 5
}
